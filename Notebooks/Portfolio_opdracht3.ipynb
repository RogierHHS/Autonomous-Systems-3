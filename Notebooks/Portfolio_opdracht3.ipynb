{
  "cells": [
    {
      "cell_type": "markdown",
      "id": "4e982cc9",
      "metadata": {
        "id": "4e982cc9"
      },
      "source": [
        "<div style=\"background-color:LightBlue; text-align:center; padding:20px;\">\n",
        "    <h2 style=\"color:black; font-family: Verdana, sans-serif;\"><strong>Multi-Agent Reinforcement Learning Project - Atari</strong></h2>\n",
        "    <p style=\"font-size: 14px; color: black; font-family: Verdana, sans-serif;\">\n",
        "        <table style=\"margin: auto; border-collapse: collapse; color: black;\">\n",
        "            <tr>\n",
        "                <th style=\"border: 0;\">Names</th>\n",
        "                <th style=\"border: 0;\">GitHub Username</th>\n",
        "            </tr>\n",
        "            <tr>\n",
        "                <td style=\"border: 0;\">Rogier Gernaat</td>\n",
        "                <td style=\"border: 0;\">RogierHHS</td>\n",
        "            </tr>\n",
        "            <tr>\n",
        "                <td style=\"border: 0;\">Daan Eising</td>\n",
        "                <td style=\"border: 0;\">DaanEising</td>\n",
        "            </tr>\n",
        "            <tr>\n",
        "                <td style=\"border: 0;\">Julia Boschman</td>\n",
        "                <td style=\"border: 0;\">JuliaBoschman</td>\n",
        "            </tr>\n",
        "            <tr>\n",
        "                <td style=\"border: 0;\">Jort dihhhoek</td>\n",
        "                <td style=\"border: 0;\">Homoboi-kankerboi</td>\n",
        "            </tr>\n",
        "        </table>\n",
        "    </p></div>\n",
        "\n",
        "<div style=\"display: flex; justify-content: center; align-items: center; margin-top: 10px;\">\n",
        "    <img src=\"\" alt=\"fotoj van onze opdracht\" style=\"width: 1000px; height: auto;\">\n",
        "</div>\n"
      ]
    },
    {
      "cell_type": "markdown",
      "id": "0851f3ab",
      "metadata": {
        "id": "0851f3ab"
      },
      "source": [
        "- ***Docent***: Vikram Radhakrishnan\n",
        "- ***Datum***: 08-04-2025"
      ]
    },
    {
      "cell_type": "markdown",
      "id": "57553bbf",
      "metadata": {
        "id": "57553bbf"
      },
      "source": [
        "\n",
        "---\n",
        "<div style=\"background-color:LightBlue; text-align:center; vertical-align:middle; padding:50px 0; margin-top:5px; margin-bottom:5px\">\n",
        "    <h2 id=\"eda-title\" style=\"color:black; font-family: Verdana, sans-serif; font-size: 25px;\"><strong> Inhoudsopgave (Prototype morgen kunnen we hem nog ff aanpassen of anders indelen) </strong></h2>\n",
        "</div>"
      ]
    },
    {
      "cell_type": "markdown",
      "id": "d7dc902d",
      "metadata": {
        "id": "d7dc902d"
      },
      "source": [
        "## **Inhoudsopgave**\n",
        "\n",
        "1. [H1: Inleiding](#1.0)\n",
        "   - [&sect;1.1: Imports en Setup](#1.1)  \n",
        "  \n",
        "2. [H2: Kiezen van Algoritme](#2.0)  \n",
        "   - [&sect;2.1: Kiezen van RL-Algoritme](#2.1)    \n",
        "   - [&sect;2.3: Kiezen van Trainingsstrategie](#2.3)  \n",
        "\n",
        "3. [H3: Probleemdefinitie](#3.0)  \n",
        "   - [&sect;3.1: Wat is het probleem?](#3.1)   \n",
        "\n",
        "4. [H4: Ontwerp en Implementatie](#4.0)  \n",
        "   - [&sect;4.1: Baseline strategie ontwikkelen](#4.1)  \n",
        "   - [&sect;4.2: Selectie van DRL algoritme en frameworks](#4.2)   \n",
        "   - [&sect;4.3: Implementatie MARL-agent](#4.3)  \n",
        "\n",
        "5. [H5: Training en Hyperparameter Search](#5.0)  \n",
        "   - [&sect;5.1: Training](#5.1)  \n",
        "   - [&sect;5.2: Selectie en tuning van hyperparameters](#5.2)  \n",
        "\n",
        "6. [H6: Evaluatie en Vergelijking](#6.0)  \n",
        "   - [&sect;6.1: Evaluatie t.o.v. baseline](#6.1)  \n",
        "   - [&sect;6.2: Analyse met metrics](#6.2)  \n",
        "   - [&sect;6.3: Visualisatie van resultaten](#6.3)  \n",
        "\n",
        "7. [H7: Rapportage en Reflectie](#7.0)  \n",
        "   - [&sect;7.1: Methodologie en aanpak](#7.1)  \n",
        "   - [&sect;7.2: Samenvatting van resultaten](#7.2)  \n",
        "   - [&sect;7.3: Reflectie op model, prestaties en uitbreidingsmogelijkheden](#7.3)  \n",
        "\n",
        "8. [H8: Literatuurlijst](#8.0)  \n",
        "\n",
        "9. [H9: Beoordelingscriteria](#9.0)\n"
      ]
    },
    {
      "cell_type": "markdown",
      "id": "b59f4614",
      "metadata": {
        "id": "b59f4614"
      },
      "source": [
        "\n",
        "---\n",
        "<div style=\"background-color:LightBlue; text-align:center; vertical-align:middle; padding:50px 0; margin-top:5px; margin-bottom:5px\">\n",
        "    <h2 id=\"eda-title\" style=\"color:black; font-family: Verdana, sans-serif; font-size: 25px;\"><strong>H1: Inleiding </strong></h2>\n",
        "</div>"
      ]
    },
    {
      "cell_type": "markdown",
      "id": "d4151918",
      "metadata": {
        "id": "d4151918"
      },
      "source": [
        "## inleiding bladiebladiebla"
      ]
    },
    {
      "cell_type": "markdown",
      "id": "b7cc6769",
      "metadata": {
        "id": "b7cc6769"
      },
      "source": [
        "<a name='1.1'></a>\n",
        "<h3>&sect;1.1: Imports en Setup</h3>"
      ]
    },
    {
      "cell_type": "markdown",
      "source": [
        "<div style=\"background-color:white; color:black; padding: 10px;\">\n",
        "    <strong>Pip install's</strong>\n",
        "</div>\n",
        "\n"
      ],
      "metadata": {
        "id": "L4NIctHLp1oS"
      },
      "id": "L4NIctHLp1oS"
    },
    {
      "cell_type": "code",
      "source": [
        "# Install the necessary libraries\n",
        "\n",
        "!pip install gym\n",
        "!pip install stable_baselines3\n",
        "!pip install gymnasium[atari]\n",
        "!pip install pettingzoo[atari]\n",
        "!pip install \"autorom[accept-rom-license]\"\n",
        "!pip install --find-links dist/ --no-cache-dir AutoROM[accept-rom-license]"
      ],
      "metadata": {
        "colab": {
          "base_uri": "https://localhost:8080/"
        },
        "id": "ULHKlbghpy0k",
        "outputId": "492ad7aa-5f49-403d-9610-091d85abe455"
      },
      "id": "ULHKlbghpy0k",
      "execution_count": 4,
      "outputs": [
        {
          "output_type": "stream",
          "name": "stdout",
          "text": [
            "Requirement already satisfied: gym in /usr/local/lib/python3.11/dist-packages (0.25.2)\n",
            "Requirement already satisfied: numpy>=1.18.0 in /usr/local/lib/python3.11/dist-packages (from gym) (2.0.2)\n",
            "Requirement already satisfied: cloudpickle>=1.2.0 in /usr/local/lib/python3.11/dist-packages (from gym) (3.1.1)\n",
            "Requirement already satisfied: gym-notices>=0.0.4 in /usr/local/lib/python3.11/dist-packages (from gym) (0.0.8)\n",
            "Requirement already satisfied: stable_baselines3 in /usr/local/lib/python3.11/dist-packages (2.6.0)\n",
            "Requirement already satisfied: gymnasium<1.2.0,>=0.29.1 in /usr/local/lib/python3.11/dist-packages (from stable_baselines3) (1.1.1)\n",
            "Requirement already satisfied: numpy<3.0,>=1.20 in /usr/local/lib/python3.11/dist-packages (from stable_baselines3) (2.0.2)\n",
            "Requirement already satisfied: torch<3.0,>=2.3 in /usr/local/lib/python3.11/dist-packages (from stable_baselines3) (2.6.0+cu124)\n",
            "Requirement already satisfied: cloudpickle in /usr/local/lib/python3.11/dist-packages (from stable_baselines3) (3.1.1)\n",
            "Requirement already satisfied: pandas in /usr/local/lib/python3.11/dist-packages (from stable_baselines3) (2.2.2)\n",
            "Requirement already satisfied: matplotlib in /usr/local/lib/python3.11/dist-packages (from stable_baselines3) (3.10.0)\n",
            "Requirement already satisfied: typing-extensions>=4.3.0 in /usr/local/lib/python3.11/dist-packages (from gymnasium<1.2.0,>=0.29.1->stable_baselines3) (4.14.0)\n",
            "Requirement already satisfied: farama-notifications>=0.0.1 in /usr/local/lib/python3.11/dist-packages (from gymnasium<1.2.0,>=0.29.1->stable_baselines3) (0.0.4)\n",
            "Requirement already satisfied: filelock in /usr/local/lib/python3.11/dist-packages (from torch<3.0,>=2.3->stable_baselines3) (3.18.0)\n",
            "Requirement already satisfied: networkx in /usr/local/lib/python3.11/dist-packages (from torch<3.0,>=2.3->stable_baselines3) (3.5)\n",
            "Requirement already satisfied: jinja2 in /usr/local/lib/python3.11/dist-packages (from torch<3.0,>=2.3->stable_baselines3) (3.1.6)\n",
            "Requirement already satisfied: fsspec in /usr/local/lib/python3.11/dist-packages (from torch<3.0,>=2.3->stable_baselines3) (2025.3.2)\n",
            "Requirement already satisfied: nvidia-cuda-nvrtc-cu12==12.4.127 in /usr/local/lib/python3.11/dist-packages (from torch<3.0,>=2.3->stable_baselines3) (12.4.127)\n",
            "Requirement already satisfied: nvidia-cuda-runtime-cu12==12.4.127 in /usr/local/lib/python3.11/dist-packages (from torch<3.0,>=2.3->stable_baselines3) (12.4.127)\n",
            "Requirement already satisfied: nvidia-cuda-cupti-cu12==12.4.127 in /usr/local/lib/python3.11/dist-packages (from torch<3.0,>=2.3->stable_baselines3) (12.4.127)\n",
            "Requirement already satisfied: nvidia-cudnn-cu12==9.1.0.70 in /usr/local/lib/python3.11/dist-packages (from torch<3.0,>=2.3->stable_baselines3) (9.1.0.70)\n",
            "Requirement already satisfied: nvidia-cublas-cu12==12.4.5.8 in /usr/local/lib/python3.11/dist-packages (from torch<3.0,>=2.3->stable_baselines3) (12.4.5.8)\n",
            "Requirement already satisfied: nvidia-cufft-cu12==11.2.1.3 in /usr/local/lib/python3.11/dist-packages (from torch<3.0,>=2.3->stable_baselines3) (11.2.1.3)\n",
            "Requirement already satisfied: nvidia-curand-cu12==10.3.5.147 in /usr/local/lib/python3.11/dist-packages (from torch<3.0,>=2.3->stable_baselines3) (10.3.5.147)\n",
            "Requirement already satisfied: nvidia-cusolver-cu12==11.6.1.9 in /usr/local/lib/python3.11/dist-packages (from torch<3.0,>=2.3->stable_baselines3) (11.6.1.9)\n",
            "Requirement already satisfied: nvidia-cusparse-cu12==12.3.1.170 in /usr/local/lib/python3.11/dist-packages (from torch<3.0,>=2.3->stable_baselines3) (12.3.1.170)\n",
            "Requirement already satisfied: nvidia-cusparselt-cu12==0.6.2 in /usr/local/lib/python3.11/dist-packages (from torch<3.0,>=2.3->stable_baselines3) (0.6.2)\n",
            "Requirement already satisfied: nvidia-nccl-cu12==2.21.5 in /usr/local/lib/python3.11/dist-packages (from torch<3.0,>=2.3->stable_baselines3) (2.21.5)\n",
            "Requirement already satisfied: nvidia-nvtx-cu12==12.4.127 in /usr/local/lib/python3.11/dist-packages (from torch<3.0,>=2.3->stable_baselines3) (12.4.127)\n",
            "Requirement already satisfied: nvidia-nvjitlink-cu12==12.4.127 in /usr/local/lib/python3.11/dist-packages (from torch<3.0,>=2.3->stable_baselines3) (12.4.127)\n",
            "Requirement already satisfied: triton==3.2.0 in /usr/local/lib/python3.11/dist-packages (from torch<3.0,>=2.3->stable_baselines3) (3.2.0)\n",
            "Requirement already satisfied: sympy==1.13.1 in /usr/local/lib/python3.11/dist-packages (from torch<3.0,>=2.3->stable_baselines3) (1.13.1)\n",
            "Requirement already satisfied: mpmath<1.4,>=1.1.0 in /usr/local/lib/python3.11/dist-packages (from sympy==1.13.1->torch<3.0,>=2.3->stable_baselines3) (1.3.0)\n",
            "Requirement already satisfied: contourpy>=1.0.1 in /usr/local/lib/python3.11/dist-packages (from matplotlib->stable_baselines3) (1.3.2)\n",
            "Requirement already satisfied: cycler>=0.10 in /usr/local/lib/python3.11/dist-packages (from matplotlib->stable_baselines3) (0.12.1)\n",
            "Requirement already satisfied: fonttools>=4.22.0 in /usr/local/lib/python3.11/dist-packages (from matplotlib->stable_baselines3) (4.58.4)\n",
            "Requirement already satisfied: kiwisolver>=1.3.1 in /usr/local/lib/python3.11/dist-packages (from matplotlib->stable_baselines3) (1.4.8)\n",
            "Requirement already satisfied: packaging>=20.0 in /usr/local/lib/python3.11/dist-packages (from matplotlib->stable_baselines3) (24.2)\n",
            "Requirement already satisfied: pillow>=8 in /usr/local/lib/python3.11/dist-packages (from matplotlib->stable_baselines3) (11.2.1)\n",
            "Requirement already satisfied: pyparsing>=2.3.1 in /usr/local/lib/python3.11/dist-packages (from matplotlib->stable_baselines3) (3.2.3)\n",
            "Requirement already satisfied: python-dateutil>=2.7 in /usr/local/lib/python3.11/dist-packages (from matplotlib->stable_baselines3) (2.9.0.post0)\n",
            "Requirement already satisfied: pytz>=2020.1 in /usr/local/lib/python3.11/dist-packages (from pandas->stable_baselines3) (2025.2)\n",
            "Requirement already satisfied: tzdata>=2022.7 in /usr/local/lib/python3.11/dist-packages (from pandas->stable_baselines3) (2025.2)\n",
            "Requirement already satisfied: six>=1.5 in /usr/local/lib/python3.11/dist-packages (from python-dateutil>=2.7->matplotlib->stable_baselines3) (1.17.0)\n",
            "Requirement already satisfied: MarkupSafe>=2.0 in /usr/local/lib/python3.11/dist-packages (from jinja2->torch<3.0,>=2.3->stable_baselines3) (3.0.2)\n",
            "Requirement already satisfied: gymnasium[atari] in /usr/local/lib/python3.11/dist-packages (1.1.1)\n",
            "Requirement already satisfied: numpy>=1.21.0 in /usr/local/lib/python3.11/dist-packages (from gymnasium[atari]) (2.0.2)\n",
            "Requirement already satisfied: cloudpickle>=1.2.0 in /usr/local/lib/python3.11/dist-packages (from gymnasium[atari]) (3.1.1)\n",
            "Requirement already satisfied: typing-extensions>=4.3.0 in /usr/local/lib/python3.11/dist-packages (from gymnasium[atari]) (4.14.0)\n",
            "Requirement already satisfied: farama-notifications>=0.0.1 in /usr/local/lib/python3.11/dist-packages (from gymnasium[atari]) (0.0.4)\n",
            "Requirement already satisfied: ale_py>=0.9 in /usr/local/lib/python3.11/dist-packages (from gymnasium[atari]) (0.11.1)\n",
            "Requirement already satisfied: pettingzoo[atari] in /usr/local/lib/python3.11/dist-packages (1.25.0)\n",
            "Requirement already satisfied: numpy>=1.21.0 in /usr/local/lib/python3.11/dist-packages (from pettingzoo[atari]) (2.0.2)\n",
            "Requirement already satisfied: gymnasium>=1.0.0 in /usr/local/lib/python3.11/dist-packages (from pettingzoo[atari]) (1.1.1)\n",
            "Requirement already satisfied: multi_agent_ale_py>=0.1.11 in /usr/local/lib/python3.11/dist-packages (from pettingzoo[atari]) (0.1.11)\n",
            "Requirement already satisfied: pygame>=2.3.0 in /usr/local/lib/python3.11/dist-packages (from pettingzoo[atari]) (2.6.1)\n",
            "Requirement already satisfied: cloudpickle>=1.2.0 in /usr/local/lib/python3.11/dist-packages (from gymnasium>=1.0.0->pettingzoo[atari]) (3.1.1)\n",
            "Requirement already satisfied: typing-extensions>=4.3.0 in /usr/local/lib/python3.11/dist-packages (from gymnasium>=1.0.0->pettingzoo[atari]) (4.14.0)\n",
            "Requirement already satisfied: farama-notifications>=0.0.1 in /usr/local/lib/python3.11/dist-packages (from gymnasium>=1.0.0->pettingzoo[atari]) (0.0.4)\n",
            "Requirement already satisfied: autorom[accept-rom-license] in /usr/local/lib/python3.11/dist-packages (0.6.1)\n",
            "Requirement already satisfied: click in /usr/local/lib/python3.11/dist-packages (from autorom[accept-rom-license]) (8.2.1)\n",
            "Requirement already satisfied: requests in /usr/local/lib/python3.11/dist-packages (from autorom[accept-rom-license]) (2.32.3)\n",
            "Requirement already satisfied: AutoROM.accept-rom-license in /usr/local/lib/python3.11/dist-packages (from autorom[accept-rom-license]) (0.6.1)\n",
            "Requirement already satisfied: charset-normalizer<4,>=2 in /usr/local/lib/python3.11/dist-packages (from requests->autorom[accept-rom-license]) (3.4.2)\n",
            "Requirement already satisfied: idna<4,>=2.5 in /usr/local/lib/python3.11/dist-packages (from requests->autorom[accept-rom-license]) (3.10)\n",
            "Requirement already satisfied: urllib3<3,>=1.21.1 in /usr/local/lib/python3.11/dist-packages (from requests->autorom[accept-rom-license]) (2.4.0)\n",
            "Requirement already satisfied: certifi>=2017.4.17 in /usr/local/lib/python3.11/dist-packages (from requests->autorom[accept-rom-license]) (2025.6.15)\n",
            "Looking in links: dist/\n",
            "Requirement already satisfied: AutoROM[accept-rom-license] in /usr/local/lib/python3.11/dist-packages (0.6.1)\n",
            "Requirement already satisfied: click in /usr/local/lib/python3.11/dist-packages (from AutoROM[accept-rom-license]) (8.2.1)\n",
            "Requirement already satisfied: requests in /usr/local/lib/python3.11/dist-packages (from AutoROM[accept-rom-license]) (2.32.3)\n",
            "Requirement already satisfied: AutoROM.accept-rom-license in /usr/local/lib/python3.11/dist-packages (from AutoROM[accept-rom-license]) (0.6.1)\n",
            "Requirement already satisfied: charset-normalizer<4,>=2 in /usr/local/lib/python3.11/dist-packages (from requests->AutoROM[accept-rom-license]) (3.4.2)\n",
            "Requirement already satisfied: idna<4,>=2.5 in /usr/local/lib/python3.11/dist-packages (from requests->AutoROM[accept-rom-license]) (3.10)\n",
            "Requirement already satisfied: urllib3<3,>=1.21.1 in /usr/local/lib/python3.11/dist-packages (from requests->AutoROM[accept-rom-license]) (2.4.0)\n",
            "Requirement already satisfied: certifi>=2017.4.17 in /usr/local/lib/python3.11/dist-packages (from requests->AutoROM[accept-rom-license]) (2025.6.15)\n"
          ]
        }
      ]
    },
    {
      "cell_type": "markdown",
      "id": "12e99777",
      "metadata": {
        "id": "12e99777"
      },
      "source": [
        "<div style=\"background-color:white; color:black; padding: 10px;\">\n",
        "    <strong>Importeren van de library's</strong>\n",
        "</div>\n",
        "\n"
      ]
    },
    {
      "cell_type": "code",
      "execution_count": 6,
      "id": "593b2447",
      "metadata": {
        "colab": {
          "base_uri": "https://localhost:8080/"
        },
        "id": "593b2447",
        "outputId": "4179a1f3-29e5-463a-cf37-95660d35c9ed"
      },
      "outputs": [
        {
          "output_type": "stream",
          "name": "stdout",
          "text": [
            "AutoROM will download the Atari 2600 ROMs.\n",
            "They will be installed to:\n",
            "\t/usr/local/lib/python3.11/dist-packages/AutoROM/roms\n",
            "\t/usr/local/lib/python3.11/dist-packages/multi_agent_ale_py/roms\n",
            "\n",
            "Existing ROMs will be overwritten.\n",
            "\n",
            "I own a license to these Atari 2600 ROMs.\n",
            "I agree to not distribute these ROMs and wish to proceed: [Y/n]: Y\n",
            "Installed /usr/local/lib/python3.11/dist-packages/AutoROM/roms/adventure.bin\n",
            "Installed /usr/local/lib/python3.11/dist-packages/multi_agent_ale_py/roms/adventure.bin\n",
            "Installed /usr/local/lib/python3.11/dist-packages/AutoROM/roms/air_raid.bin\n",
            "Installed /usr/local/lib/python3.11/dist-packages/multi_agent_ale_py/roms/air_raid.bin\n",
            "Installed /usr/local/lib/python3.11/dist-packages/AutoROM/roms/alien.bin\n",
            "Installed /usr/local/lib/python3.11/dist-packages/multi_agent_ale_py/roms/alien.bin\n",
            "Installed /usr/local/lib/python3.11/dist-packages/AutoROM/roms/amidar.bin\n",
            "Installed /usr/local/lib/python3.11/dist-packages/multi_agent_ale_py/roms/amidar.bin\n",
            "Installed /usr/local/lib/python3.11/dist-packages/AutoROM/roms/assault.bin\n",
            "Installed /usr/local/lib/python3.11/dist-packages/multi_agent_ale_py/roms/assault.bin\n",
            "Installed /usr/local/lib/python3.11/dist-packages/AutoROM/roms/asterix.bin\n",
            "Installed /usr/local/lib/python3.11/dist-packages/multi_agent_ale_py/roms/asterix.bin\n",
            "Installed /usr/local/lib/python3.11/dist-packages/AutoROM/roms/asteroids.bin\n",
            "Installed /usr/local/lib/python3.11/dist-packages/multi_agent_ale_py/roms/asteroids.bin\n",
            "Installed /usr/local/lib/python3.11/dist-packages/AutoROM/roms/atlantis.bin\n",
            "Installed /usr/local/lib/python3.11/dist-packages/multi_agent_ale_py/roms/atlantis.bin\n",
            "Installed /usr/local/lib/python3.11/dist-packages/AutoROM/roms/atlantis2.bin\n",
            "Installed /usr/local/lib/python3.11/dist-packages/multi_agent_ale_py/roms/atlantis2.bin\n",
            "Installed /usr/local/lib/python3.11/dist-packages/AutoROM/roms/backgammon.bin\n",
            "Installed /usr/local/lib/python3.11/dist-packages/multi_agent_ale_py/roms/backgammon.bin\n",
            "Installed /usr/local/lib/python3.11/dist-packages/AutoROM/roms/bank_heist.bin\n",
            "Installed /usr/local/lib/python3.11/dist-packages/multi_agent_ale_py/roms/bank_heist.bin\n",
            "Installed /usr/local/lib/python3.11/dist-packages/AutoROM/roms/basic_math.bin\n",
            "Installed /usr/local/lib/python3.11/dist-packages/multi_agent_ale_py/roms/basic_math.bin\n",
            "Installed /usr/local/lib/python3.11/dist-packages/AutoROM/roms/battle_zone.bin\n",
            "Installed /usr/local/lib/python3.11/dist-packages/multi_agent_ale_py/roms/battle_zone.bin\n",
            "Installed /usr/local/lib/python3.11/dist-packages/AutoROM/roms/beam_rider.bin\n",
            "Installed /usr/local/lib/python3.11/dist-packages/multi_agent_ale_py/roms/beam_rider.bin\n",
            "Installed /usr/local/lib/python3.11/dist-packages/AutoROM/roms/berzerk.bin\n",
            "Installed /usr/local/lib/python3.11/dist-packages/multi_agent_ale_py/roms/berzerk.bin\n",
            "Installed /usr/local/lib/python3.11/dist-packages/AutoROM/roms/blackjack.bin\n",
            "Installed /usr/local/lib/python3.11/dist-packages/multi_agent_ale_py/roms/blackjack.bin\n",
            "Installed /usr/local/lib/python3.11/dist-packages/AutoROM/roms/bowling.bin\n",
            "Installed /usr/local/lib/python3.11/dist-packages/multi_agent_ale_py/roms/bowling.bin\n",
            "Installed /usr/local/lib/python3.11/dist-packages/AutoROM/roms/boxing.bin\n",
            "Installed /usr/local/lib/python3.11/dist-packages/multi_agent_ale_py/roms/boxing.bin\n",
            "Installed /usr/local/lib/python3.11/dist-packages/AutoROM/roms/breakout.bin\n",
            "Installed /usr/local/lib/python3.11/dist-packages/multi_agent_ale_py/roms/breakout.bin\n",
            "Installed /usr/local/lib/python3.11/dist-packages/AutoROM/roms/carnival.bin\n",
            "Installed /usr/local/lib/python3.11/dist-packages/multi_agent_ale_py/roms/carnival.bin\n",
            "Installed /usr/local/lib/python3.11/dist-packages/AutoROM/roms/casino.bin\n",
            "Installed /usr/local/lib/python3.11/dist-packages/multi_agent_ale_py/roms/casino.bin\n",
            "Installed /usr/local/lib/python3.11/dist-packages/AutoROM/roms/centipede.bin\n",
            "Installed /usr/local/lib/python3.11/dist-packages/multi_agent_ale_py/roms/centipede.bin\n",
            "Installed /usr/local/lib/python3.11/dist-packages/AutoROM/roms/chopper_command.bin\n",
            "Installed /usr/local/lib/python3.11/dist-packages/multi_agent_ale_py/roms/chopper_command.bin\n",
            "Installed /usr/local/lib/python3.11/dist-packages/AutoROM/roms/combat.bin\n",
            "Installed /usr/local/lib/python3.11/dist-packages/multi_agent_ale_py/roms/combat.bin\n",
            "Installed /usr/local/lib/python3.11/dist-packages/AutoROM/roms/crazy_climber.bin\n",
            "Installed /usr/local/lib/python3.11/dist-packages/multi_agent_ale_py/roms/crazy_climber.bin\n",
            "Installed /usr/local/lib/python3.11/dist-packages/AutoROM/roms/crossbow.bin\n",
            "Installed /usr/local/lib/python3.11/dist-packages/multi_agent_ale_py/roms/crossbow.bin\n",
            "Installed /usr/local/lib/python3.11/dist-packages/AutoROM/roms/darkchambers.bin\n",
            "Installed /usr/local/lib/python3.11/dist-packages/multi_agent_ale_py/roms/darkchambers.bin\n",
            "Installed /usr/local/lib/python3.11/dist-packages/AutoROM/roms/defender.bin\n",
            "Installed /usr/local/lib/python3.11/dist-packages/multi_agent_ale_py/roms/defender.bin\n",
            "Installed /usr/local/lib/python3.11/dist-packages/AutoROM/roms/demon_attack.bin\n",
            "Installed /usr/local/lib/python3.11/dist-packages/multi_agent_ale_py/roms/demon_attack.bin\n",
            "Installed /usr/local/lib/python3.11/dist-packages/AutoROM/roms/donkey_kong.bin\n",
            "Installed /usr/local/lib/python3.11/dist-packages/multi_agent_ale_py/roms/donkey_kong.bin\n",
            "Installed /usr/local/lib/python3.11/dist-packages/AutoROM/roms/double_dunk.bin\n",
            "Installed /usr/local/lib/python3.11/dist-packages/multi_agent_ale_py/roms/double_dunk.bin\n",
            "Installed /usr/local/lib/python3.11/dist-packages/AutoROM/roms/earthworld.bin\n",
            "Installed /usr/local/lib/python3.11/dist-packages/multi_agent_ale_py/roms/earthworld.bin\n",
            "Installed /usr/local/lib/python3.11/dist-packages/AutoROM/roms/elevator_action.bin\n",
            "Installed /usr/local/lib/python3.11/dist-packages/multi_agent_ale_py/roms/elevator_action.bin\n",
            "Installed /usr/local/lib/python3.11/dist-packages/AutoROM/roms/enduro.bin\n",
            "Installed /usr/local/lib/python3.11/dist-packages/multi_agent_ale_py/roms/enduro.bin\n",
            "Installed /usr/local/lib/python3.11/dist-packages/AutoROM/roms/entombed.bin\n",
            "Installed /usr/local/lib/python3.11/dist-packages/multi_agent_ale_py/roms/entombed.bin\n",
            "Installed /usr/local/lib/python3.11/dist-packages/AutoROM/roms/et.bin\n",
            "Installed /usr/local/lib/python3.11/dist-packages/multi_agent_ale_py/roms/et.bin\n",
            "Installed /usr/local/lib/python3.11/dist-packages/AutoROM/roms/fishing_derby.bin\n",
            "Installed /usr/local/lib/python3.11/dist-packages/multi_agent_ale_py/roms/fishing_derby.bin\n",
            "Installed /usr/local/lib/python3.11/dist-packages/AutoROM/roms/flag_capture.bin\n",
            "Installed /usr/local/lib/python3.11/dist-packages/multi_agent_ale_py/roms/flag_capture.bin\n",
            "Installed /usr/local/lib/python3.11/dist-packages/AutoROM/roms/freeway.bin\n",
            "Installed /usr/local/lib/python3.11/dist-packages/multi_agent_ale_py/roms/freeway.bin\n",
            "Installed /usr/local/lib/python3.11/dist-packages/AutoROM/roms/frogger.bin\n",
            "Installed /usr/local/lib/python3.11/dist-packages/multi_agent_ale_py/roms/frogger.bin\n",
            "Installed /usr/local/lib/python3.11/dist-packages/AutoROM/roms/frostbite.bin\n",
            "Installed /usr/local/lib/python3.11/dist-packages/multi_agent_ale_py/roms/frostbite.bin\n",
            "Installed /usr/local/lib/python3.11/dist-packages/AutoROM/roms/galaxian.bin\n",
            "Installed /usr/local/lib/python3.11/dist-packages/multi_agent_ale_py/roms/galaxian.bin\n",
            "Installed /usr/local/lib/python3.11/dist-packages/AutoROM/roms/gopher.bin\n",
            "Installed /usr/local/lib/python3.11/dist-packages/multi_agent_ale_py/roms/gopher.bin\n",
            "Installed /usr/local/lib/python3.11/dist-packages/AutoROM/roms/gravitar.bin\n",
            "Installed /usr/local/lib/python3.11/dist-packages/multi_agent_ale_py/roms/gravitar.bin\n",
            "Installed /usr/local/lib/python3.11/dist-packages/AutoROM/roms/hangman.bin\n",
            "Installed /usr/local/lib/python3.11/dist-packages/multi_agent_ale_py/roms/hangman.bin\n",
            "Installed /usr/local/lib/python3.11/dist-packages/AutoROM/roms/haunted_house.bin\n",
            "Installed /usr/local/lib/python3.11/dist-packages/multi_agent_ale_py/roms/haunted_house.bin\n",
            "Installed /usr/local/lib/python3.11/dist-packages/AutoROM/roms/hero.bin\n",
            "Installed /usr/local/lib/python3.11/dist-packages/multi_agent_ale_py/roms/hero.bin\n",
            "Installed /usr/local/lib/python3.11/dist-packages/AutoROM/roms/human_cannonball.bin\n",
            "Installed /usr/local/lib/python3.11/dist-packages/multi_agent_ale_py/roms/human_cannonball.bin\n",
            "Installed /usr/local/lib/python3.11/dist-packages/AutoROM/roms/ice_hockey.bin\n",
            "Installed /usr/local/lib/python3.11/dist-packages/multi_agent_ale_py/roms/ice_hockey.bin\n",
            "Installed /usr/local/lib/python3.11/dist-packages/AutoROM/roms/jamesbond.bin\n",
            "Installed /usr/local/lib/python3.11/dist-packages/multi_agent_ale_py/roms/jamesbond.bin\n",
            "Installed /usr/local/lib/python3.11/dist-packages/AutoROM/roms/journey_escape.bin\n",
            "Installed /usr/local/lib/python3.11/dist-packages/multi_agent_ale_py/roms/journey_escape.bin\n",
            "Installed /usr/local/lib/python3.11/dist-packages/AutoROM/roms/joust.bin\n",
            "Installed /usr/local/lib/python3.11/dist-packages/multi_agent_ale_py/roms/joust.bin\n",
            "Installed /usr/local/lib/python3.11/dist-packages/AutoROM/roms/kaboom.bin\n",
            "Installed /usr/local/lib/python3.11/dist-packages/multi_agent_ale_py/roms/kaboom.bin\n",
            "Installed /usr/local/lib/python3.11/dist-packages/AutoROM/roms/kangaroo.bin\n",
            "Installed /usr/local/lib/python3.11/dist-packages/multi_agent_ale_py/roms/kangaroo.bin\n",
            "Installed /usr/local/lib/python3.11/dist-packages/AutoROM/roms/keystone_kapers.bin\n",
            "Installed /usr/local/lib/python3.11/dist-packages/multi_agent_ale_py/roms/keystone_kapers.bin\n",
            "Installed /usr/local/lib/python3.11/dist-packages/AutoROM/roms/king_kong.bin\n",
            "Installed /usr/local/lib/python3.11/dist-packages/multi_agent_ale_py/roms/king_kong.bin\n",
            "Installed /usr/local/lib/python3.11/dist-packages/AutoROM/roms/klax.bin\n",
            "Installed /usr/local/lib/python3.11/dist-packages/multi_agent_ale_py/roms/klax.bin\n",
            "Installed /usr/local/lib/python3.11/dist-packages/AutoROM/roms/koolaid.bin\n",
            "Installed /usr/local/lib/python3.11/dist-packages/multi_agent_ale_py/roms/koolaid.bin\n",
            "Installed /usr/local/lib/python3.11/dist-packages/AutoROM/roms/krull.bin\n",
            "Installed /usr/local/lib/python3.11/dist-packages/multi_agent_ale_py/roms/krull.bin\n",
            "Installed /usr/local/lib/python3.11/dist-packages/AutoROM/roms/kung_fu_master.bin\n",
            "Installed /usr/local/lib/python3.11/dist-packages/multi_agent_ale_py/roms/kung_fu_master.bin\n",
            "Installed /usr/local/lib/python3.11/dist-packages/AutoROM/roms/laser_gates.bin\n",
            "Installed /usr/local/lib/python3.11/dist-packages/multi_agent_ale_py/roms/laser_gates.bin\n",
            "Installed /usr/local/lib/python3.11/dist-packages/AutoROM/roms/lost_luggage.bin\n",
            "Installed /usr/local/lib/python3.11/dist-packages/multi_agent_ale_py/roms/lost_luggage.bin\n",
            "Installed /usr/local/lib/python3.11/dist-packages/AutoROM/roms/mario_bros.bin\n",
            "Installed /usr/local/lib/python3.11/dist-packages/multi_agent_ale_py/roms/mario_bros.bin\n",
            "Installed /usr/local/lib/python3.11/dist-packages/AutoROM/roms/maze_craze.bin\n",
            "Installed /usr/local/lib/python3.11/dist-packages/multi_agent_ale_py/roms/maze_craze.bin\n",
            "Installed /usr/local/lib/python3.11/dist-packages/AutoROM/roms/miniature_golf.bin\n",
            "Installed /usr/local/lib/python3.11/dist-packages/multi_agent_ale_py/roms/miniature_golf.bin\n",
            "Installed /usr/local/lib/python3.11/dist-packages/AutoROM/roms/montezuma_revenge.bin\n",
            "Installed /usr/local/lib/python3.11/dist-packages/multi_agent_ale_py/roms/montezuma_revenge.bin\n",
            "Installed /usr/local/lib/python3.11/dist-packages/AutoROM/roms/mr_do.bin\n",
            "Installed /usr/local/lib/python3.11/dist-packages/multi_agent_ale_py/roms/mr_do.bin\n",
            "Installed /usr/local/lib/python3.11/dist-packages/AutoROM/roms/ms_pacman.bin\n",
            "Installed /usr/local/lib/python3.11/dist-packages/multi_agent_ale_py/roms/ms_pacman.bin\n",
            "Installed /usr/local/lib/python3.11/dist-packages/AutoROM/roms/name_this_game.bin\n",
            "Installed /usr/local/lib/python3.11/dist-packages/multi_agent_ale_py/roms/name_this_game.bin\n",
            "Installed /usr/local/lib/python3.11/dist-packages/AutoROM/roms/othello.bin\n",
            "Installed /usr/local/lib/python3.11/dist-packages/multi_agent_ale_py/roms/othello.bin\n",
            "Installed /usr/local/lib/python3.11/dist-packages/AutoROM/roms/pacman.bin\n",
            "Installed /usr/local/lib/python3.11/dist-packages/multi_agent_ale_py/roms/pacman.bin\n",
            "Installed /usr/local/lib/python3.11/dist-packages/AutoROM/roms/phoenix.bin\n",
            "Installed /usr/local/lib/python3.11/dist-packages/multi_agent_ale_py/roms/phoenix.bin\n",
            "Installed /usr/local/lib/python3.11/dist-packages/AutoROM/roms/pitfall.bin\n",
            "Installed /usr/local/lib/python3.11/dist-packages/multi_agent_ale_py/roms/pitfall.bin\n",
            "Installed /usr/local/lib/python3.11/dist-packages/AutoROM/roms/pitfall2.bin\n",
            "Installed /usr/local/lib/python3.11/dist-packages/multi_agent_ale_py/roms/pitfall2.bin\n",
            "Installed /usr/local/lib/python3.11/dist-packages/AutoROM/roms/pong.bin\n",
            "Installed /usr/local/lib/python3.11/dist-packages/multi_agent_ale_py/roms/pong.bin\n",
            "Installed /usr/local/lib/python3.11/dist-packages/AutoROM/roms/pooyan.bin\n",
            "Installed /usr/local/lib/python3.11/dist-packages/multi_agent_ale_py/roms/pooyan.bin\n",
            "Installed /usr/local/lib/python3.11/dist-packages/AutoROM/roms/private_eye.bin\n",
            "Installed /usr/local/lib/python3.11/dist-packages/multi_agent_ale_py/roms/private_eye.bin\n",
            "Installed /usr/local/lib/python3.11/dist-packages/AutoROM/roms/qbert.bin\n",
            "Installed /usr/local/lib/python3.11/dist-packages/multi_agent_ale_py/roms/qbert.bin\n",
            "Installed /usr/local/lib/python3.11/dist-packages/AutoROM/roms/riverraid.bin\n",
            "Installed /usr/local/lib/python3.11/dist-packages/multi_agent_ale_py/roms/riverraid.bin\n",
            "Installed /usr/local/lib/python3.11/dist-packages/AutoROM/roms/road_runner.bin\n",
            "Installed /usr/local/lib/python3.11/dist-packages/multi_agent_ale_py/roms/road_runner.bin\n",
            "Installed /usr/local/lib/python3.11/dist-packages/AutoROM/roms/robotank.bin\n",
            "Installed /usr/local/lib/python3.11/dist-packages/multi_agent_ale_py/roms/robotank.bin\n",
            "Installed /usr/local/lib/python3.11/dist-packages/AutoROM/roms/seaquest.bin\n",
            "Installed /usr/local/lib/python3.11/dist-packages/multi_agent_ale_py/roms/seaquest.bin\n",
            "Installed /usr/local/lib/python3.11/dist-packages/AutoROM/roms/sir_lancelot.bin\n",
            "Installed /usr/local/lib/python3.11/dist-packages/multi_agent_ale_py/roms/sir_lancelot.bin\n",
            "Installed /usr/local/lib/python3.11/dist-packages/AutoROM/roms/skiing.bin\n",
            "Installed /usr/local/lib/python3.11/dist-packages/multi_agent_ale_py/roms/skiing.bin\n",
            "Installed /usr/local/lib/python3.11/dist-packages/AutoROM/roms/solaris.bin\n",
            "Installed /usr/local/lib/python3.11/dist-packages/multi_agent_ale_py/roms/solaris.bin\n",
            "Installed /usr/local/lib/python3.11/dist-packages/AutoROM/roms/space_invaders.bin\n",
            "Installed /usr/local/lib/python3.11/dist-packages/multi_agent_ale_py/roms/space_invaders.bin\n",
            "Installed /usr/local/lib/python3.11/dist-packages/AutoROM/roms/space_war.bin\n",
            "Installed /usr/local/lib/python3.11/dist-packages/multi_agent_ale_py/roms/space_war.bin\n",
            "Installed /usr/local/lib/python3.11/dist-packages/AutoROM/roms/star_gunner.bin\n",
            "Installed /usr/local/lib/python3.11/dist-packages/multi_agent_ale_py/roms/star_gunner.bin\n",
            "Installed /usr/local/lib/python3.11/dist-packages/AutoROM/roms/superman.bin\n",
            "Installed /usr/local/lib/python3.11/dist-packages/multi_agent_ale_py/roms/superman.bin\n",
            "Installed /usr/local/lib/python3.11/dist-packages/AutoROM/roms/surround.bin\n",
            "Installed /usr/local/lib/python3.11/dist-packages/multi_agent_ale_py/roms/surround.bin\n",
            "Installed /usr/local/lib/python3.11/dist-packages/AutoROM/roms/tennis.bin\n",
            "Installed /usr/local/lib/python3.11/dist-packages/multi_agent_ale_py/roms/tennis.bin\n",
            "Installed /usr/local/lib/python3.11/dist-packages/AutoROM/roms/tetris.bin\n",
            "Installed /usr/local/lib/python3.11/dist-packages/multi_agent_ale_py/roms/tetris.bin\n",
            "Installed /usr/local/lib/python3.11/dist-packages/AutoROM/roms/tic_tac_toe_3d.bin\n",
            "Installed /usr/local/lib/python3.11/dist-packages/multi_agent_ale_py/roms/tic_tac_toe_3d.bin\n",
            "Installed /usr/local/lib/python3.11/dist-packages/AutoROM/roms/time_pilot.bin\n",
            "Installed /usr/local/lib/python3.11/dist-packages/multi_agent_ale_py/roms/time_pilot.bin\n",
            "Installed /usr/local/lib/python3.11/dist-packages/AutoROM/roms/trondead.bin\n",
            "Installed /usr/local/lib/python3.11/dist-packages/multi_agent_ale_py/roms/trondead.bin\n",
            "Installed /usr/local/lib/python3.11/dist-packages/AutoROM/roms/turmoil.bin\n",
            "Installed /usr/local/lib/python3.11/dist-packages/multi_agent_ale_py/roms/turmoil.bin\n",
            "Installed /usr/local/lib/python3.11/dist-packages/AutoROM/roms/tutankham.bin\n",
            "Installed /usr/local/lib/python3.11/dist-packages/multi_agent_ale_py/roms/tutankham.bin\n",
            "Installed /usr/local/lib/python3.11/dist-packages/AutoROM/roms/up_n_down.bin\n",
            "Installed /usr/local/lib/python3.11/dist-packages/multi_agent_ale_py/roms/up_n_down.bin\n",
            "Installed /usr/local/lib/python3.11/dist-packages/AutoROM/roms/venture.bin\n",
            "Installed /usr/local/lib/python3.11/dist-packages/multi_agent_ale_py/roms/venture.bin\n",
            "Installed /usr/local/lib/python3.11/dist-packages/AutoROM/roms/video_checkers.bin\n",
            "Installed /usr/local/lib/python3.11/dist-packages/multi_agent_ale_py/roms/video_checkers.bin\n",
            "Installed /usr/local/lib/python3.11/dist-packages/AutoROM/roms/video_chess.bin\n",
            "Installed /usr/local/lib/python3.11/dist-packages/multi_agent_ale_py/roms/video_chess.bin\n",
            "Installed /usr/local/lib/python3.11/dist-packages/AutoROM/roms/video_cube.bin\n",
            "Installed /usr/local/lib/python3.11/dist-packages/multi_agent_ale_py/roms/video_cube.bin\n",
            "Installed /usr/local/lib/python3.11/dist-packages/AutoROM/roms/video_pinball.bin\n",
            "Installed /usr/local/lib/python3.11/dist-packages/multi_agent_ale_py/roms/video_pinball.bin\n",
            "Installed /usr/local/lib/python3.11/dist-packages/AutoROM/roms/warlords.bin\n",
            "Installed /usr/local/lib/python3.11/dist-packages/multi_agent_ale_py/roms/warlords.bin\n",
            "Installed /usr/local/lib/python3.11/dist-packages/AutoROM/roms/wizard_of_wor.bin\n",
            "Installed /usr/local/lib/python3.11/dist-packages/multi_agent_ale_py/roms/wizard_of_wor.bin\n",
            "Installed /usr/local/lib/python3.11/dist-packages/AutoROM/roms/word_zapper.bin\n",
            "Installed /usr/local/lib/python3.11/dist-packages/multi_agent_ale_py/roms/word_zapper.bin\n",
            "Installed /usr/local/lib/python3.11/dist-packages/AutoROM/roms/yars_revenge.bin\n",
            "Installed /usr/local/lib/python3.11/dist-packages/multi_agent_ale_py/roms/yars_revenge.bin\n",
            "Installed /usr/local/lib/python3.11/dist-packages/AutoROM/roms/zaxxon.bin\n",
            "Installed /usr/local/lib/python3.11/dist-packages/multi_agent_ale_py/roms/zaxxon.bin\n",
            "Done!\n"
          ]
        }
      ],
      "source": [
        "import numpy as np\n",
        "import pandas as pd\n",
        "import matplotlib.pyplot as plt\n",
        "import sys\n",
        "import gymnasium as gym\n",
        "from stable_baselines3 import PPO\n",
        "from google.colab import drive\n",
        "# Start AutoROM\n",
        "\n",
        "!AutoROM\n",
        "\n",
        "# Import libraries\n",
        "from pettingzoo.atari import warlords_v3\n",
        "from pettingzoo.utils import BaseParallelWrapper\n",
        "from collections import defaultdict, Counter\n",
        "import importlib\n",
        "import os\n",
        "import imageio"
      ]
    },
    {
      "cell_type": "markdown",
      "source": [
        "<div style=\"background-color:white; color:black; padding: 10px;\">\n",
        "    <strong>Mounten van colab drive en inladen van de agents</strong>\n",
        "</div>"
      ],
      "metadata": {
        "id": "041sv7N4qs7r"
      },
      "id": "041sv7N4qs7r"
    },
    {
      "cell_type": "code",
      "source": [
        "drive.mount('/content/drive')"
      ],
      "metadata": {
        "colab": {
          "base_uri": "https://localhost:8080/"
        },
        "id": "5w-qIX5DqtDb",
        "outputId": "66d6fa00-4f71-4dfc-a24d-a8160683d3c3"
      },
      "id": "5w-qIX5DqtDb",
      "execution_count": 1,
      "outputs": [
        {
          "output_type": "stream",
          "name": "stdout",
          "text": [
            "Mounted at /content/drive\n"
          ]
        }
      ]
    },
    {
      "cell_type": "code",
      "source": [
        "sys.path.append('/content/drive/MyDrive/Autonomous Systems')"
      ],
      "metadata": {
        "id": "lL5Tqu-EBjYQ"
      },
      "id": "lL5Tqu-EBjYQ",
      "execution_count": 7,
      "outputs": []
    },
    {
      "cell_type": "code",
      "source": [
        "print(os.listdir('/content/drive/MyDrive/Autonomous Systems'))"
      ],
      "metadata": {
        "colab": {
          "base_uri": "https://localhost:8080/"
        },
        "id": "0xZNZi63C5Kn",
        "outputId": "901f4eb0-b687-4cfb-a43d-59e5e2d2e1a5"
      },
      "id": "0xZNZi63C5Kn",
      "execution_count": 8,
      "outputs": [
        {
          "output_type": "stream",
          "name": "stdout",
          "text": [
            "['Agent4.py', 'Agent2.py', 'Agent3.py', 'Agent1.py', '__pycache__', 'AgentJulia.py']\n"
          ]
        }
      ]
    },
    {
      "cell_type": "markdown",
      "id": "438c13d8",
      "metadata": {
        "id": "438c13d8"
      },
      "source": [
        "\n",
        "---\n",
        "<div style=\"background-color:LightBlue; text-align:center; vertical-align:middle; padding:50px 0; margin-top:5px; margin-bottom:5px\">\n",
        "    <h2 id=\"eda-title\" style=\"color:black; font-family: Verdana, sans-serif; font-size: 25px;\"><strong>H2: Kiezen van Algoritme </strong></h2>\n",
        "</div>"
      ]
    },
    {
      "cell_type": "markdown",
      "id": "732b4263",
      "metadata": {
        "id": "732b4263"
      },
      "source": [
        "<a name='1.1'></a>\n",
        "<h3>&sect;2.1: Kiezen van RL-Algoritme</h3>"
      ]
    },
    {
      "cell_type": "markdown",
      "id": "6c1c9536",
      "metadata": {
        "id": "6c1c9536"
      },
      "source": [
        "a.\tJouw agent zal deelnemen en interacten met andere agenten in de Atari-omgeving \"Warlords\"."
      ]
    },
    {
      "cell_type": "markdown",
      "source": [
        "<div style=\"background-color:white; color:black; padding: 10px;\">\n",
        "    <strong>Agent 1: (Rogier) DQN - Deep Q-Network</strong>\n",
        "</div>\n",
        "\n"
      ],
      "metadata": {
        "id": "WRwBHRpV864G"
      },
      "id": "WRwBHRpV864G"
    },
    {
      "cell_type": "markdown",
      "source": [
        "## §2.1: Kiezen van RL-Algoritme\n",
        "\n",
        "In deze opdracht staat de Atari-game **Warlords** centraal: een klassieke arcadegame waarbij vier spelers (agents) gelijktijdig strijden op een speelveld. Iedere agent verdedigt zijn eigen kasteel en probeert de anderen uit te schakelen, wat resulteert in een typisch **multi-agent scenario** met zowel competitie als wisselende interactiepatronen tussen agents. Voor deze complexe en dynamische omgeving is het belangrijk om een reinforcement learning-algoritme te kiezen dat bewezen effectief is bij problemen met een hoge mate van onzekerheid, veel mogelijke toestanden en meerdere spelers.\n",
        "\n",
        "We kiezen voor het **Proximal Policy Optimization (PPO)** algoritme als basis voor onze agent. PPO is een krachtig, modern en veelgebruikt algoritme binnen deep reinforcement learning. Het is ontworpen voor stabiliteit en efficiëntie bij het optimaliseren van beleid (policies), en heeft uitstekende prestaties laten zien in visuele, dynamische omgevingen zoals Atari-games. PPO leert direct van ruwe pixeldata via een convolutioneel neuraal netwerk en maakt gebruik van policy-gradient updates die gecontroleerd worden uitgevoerd om instabiliteit te voorkomen.\n",
        "\n",
        "### Waarom PPO?\n",
        "\n",
        "- **Geschikt voor visuele input:**  \n",
        "  PPO werkt uitstekend met ruwe spelbeelden (frames) als input, en kan daardoor zelfstandig complexe strategieën ontwikkelen zonder handmatige feature engineering. De convolutionele neurale netwerken van PPO zijn uitermate geschikt voor het herkennen van visuele patronen in Atari-omgevingen.\n",
        "\n",
        "- **Stabiel en robuust leren:**  \n",
        "  Door het gebruik van trust-region updates (clipping), mini-batch learning en advantage schatting (GAE), blijft het leerproces gecontroleerd en raakt het model minder snel verstrikt in abrupte of onstabiele policy-wijzigingen. Dit is cruciaal in chaotische multi-agent omgevingen zoals Warlords.\n",
        "\n",
        "- **Multi-agent compatibiliteit:**  \n",
        "  PPO laat zich eenvoudig toepassen op multi-agent settings, bijvoorbeeld via parameter sharing (één policy voor meerdere agents) of door individuele policies te trainen per agent. Dit maakt het flexibel inzetbaar voor uiteenlopende experimenten.\n",
        "\n",
        "- **Breed onderzocht en veel gebruikt:**  \n",
        "  PPO behoort tot de standaardbenchmarks in reinforcement learning en is in tal van studies succesvol ingezet voor Atari-omgevingen en multi-agent settings. Er zijn veel goed onderhouden frameworks beschikbaar (zoals Stable-Baselines3 en PettingZoo), wat snelle en correcte implementatie mogelijk maakt.\n",
        "\n",
        "### Concreet voordeel voor deze opdracht\n",
        "\n",
        "- **Algoritmische robuustheid:**  \n",
        "  PPO is bijzonder effectief in dynamische en onvoorspelbare omgevingen waar het gedrag van andere agents voortdurend verandert. Dankzij gecontroleerde policy-updates en efficiënte verwerking van ervaringen is PPO in staat om robuuste strategieën te ontwikkelen.\n",
        "\n",
        "- **Vergelijkbaarheid:**  \n",
        "  PPO is een veelgebruikte standaard in de literatuur rondom Atari en multi-agent reinforcement learning. Hierdoor zijn onze resultaten goed te vergelijken met bestaande benchmarks en alternatieve algoritmes (zoals DQN of random policies).\n",
        "\n",
        "- **Transparantie en reproduceerbaarheid:**  \n",
        "  Dankzij de brede adoptie en solide implementaties in frameworks als Stable-Baselines3 en PettingZoo zijn onze experimenten eenvoudig te reproduceren, uit te breiden en te valideren door andere studenten of onderzoekers.\n"
      ],
      "metadata": {
        "id": "aTDt5gr586-3"
      },
      "id": "aTDt5gr586-3"
    },
    {
      "cell_type": "markdown",
      "source": [
        "<div style=\"background-color:white; color:black; padding: 10px;\">\n",
        "    <strong>Agent 2: (Julia) PPO - Proximal Policy Optimization</strong>\n",
        "</div>\n",
        "\n"
      ],
      "metadata": {
        "id": "Hth3awtZ7i_v"
      },
      "id": "Hth3awtZ7i_v"
    },
    {
      "cell_type": "markdown",
      "source": [
        "### **Uitleg van PPO**\n",
        "\n",
        "Proximal Policy Optimization (PPO) is een geavanceerd reinforcement learning-algoritme dat veel wordt gebruikt voor het trainen van agents in complexe omgevingen zoals Atari-spellen. PPO verbetert eerdere policy-gradient-methodes door bij elke stap de aanpassing van het beleid (“policy”) te beperken. Hierdoor wordt het leerproces stabieler en is de kans kleiner dat de agent ineens “vergeet” wat hij geleerd heeft.\n",
        "\n",
        "PPO werkt door het beleid steeds een klein beetje aan te passen op basis van ervaringen uit de omgeving. Hierdoor leert de agent efficiënter en zijn de resultaten vaak beter reproduceerbaar. PPO is ook geschikt voor situaties met hoge-dimensionale input, zoals beelden, en werkt goed in multi-agent omgevingen zoals Warlords.\n",
        "\n",
        "DhanushKumar (2024)\n",
        "\n",
        "### **Motivatie**\n",
        "\n",
        "Voor deze opdracht heb ik gekozen voor het algoritme Proximal Policy Optimization (PPO). De belangrijkste reden hiervoor is dat PPO bekend staat om zijn stabiliteit en efficiëntie bij het trainen van agents in complexe omgevingen met hoge-dimensionale input, zoals de Atari-game Warlords, Schulman et al. (2017). Omdat PPO de aanpassingen aan het beleid per stap beperkt, blijft het leerproces gecontroleerd en voorkom je dat de agent tijdens het trainen “vergeet” wat eerder geleerd is. Dit is vooral belangrijk in multi-agent omgevingen, waar het gedrag van andere agents de situatie voortdurend beïnvloedt.\n",
        "\n",
        "Daarnaast is PPO eenvoudig te implementeren dankzij bestaande libraries zoals stable-baselines3, waardoor het mogelijk is om snel te experimenteren met verschillende hyperparameters. De standaardwaarden die ik voor de belangrijkste hyperparameters heb gekozen, zijn gebaseerd op aanbevelingen uit de literatuur en eerdere succesvolle toepassingen in vergelijkbare omgevingen (The 37 Implementation Details Of Proximal Policy Optimization · The ICLR Blog Track, 2022). PPO is bovendien goed schaalbaar, waardoor het geschikt is om in een multi-agent setting zoals Warlords verschillende agents onafhankelijk van elkaar te trainen en te vergelijken.\n",
        "\n",
        "Door deze eigenschappen is PPO naar mijn mening de meest geschikte keuze voor deze opdracht, omdat het zorgt voor betrouwbare leerresultaten en flexibiliteit biedt bij het uitvoeren van experimenten met verschillende agents en trainingsinstellingen.\n",
        "\n",
        "### **Aanpak**\n",
        "\n",
        "Voor deze opdracht heb ik een PPO-agent geïmplementeerd met behulp van de stable-baselines3 library. PPO is gekozen vanwege de stabiele prestaties en de robuustheid bij het trainen in omgevingen met beeldinput, zoals “Warlords”. De agent gebruikt een convolutioneel neuraal netwerk om de observaties te verwerken.\n",
        "De belangrijkste hyperparameters zijn gekozen op basis van aanbevolen waarden uit wetenschappelijke literatuur voor Atari-omgevingen, maar kunnen verder geoptimaliseerd worden.\n",
        "Mijn implementatie maakt het makkelijk om het model op te slaan, opnieuw te laden en te evalueren, zodat experimenten goed reproduceerbaar zijn."
      ],
      "metadata": {
        "id": "cZW97gbO7eh5"
      },
      "id": "cZW97gbO7eh5"
    },
    {
      "cell_type": "markdown",
      "id": "e9d941ae",
      "metadata": {
        "id": "e9d941ae"
      },
      "source": [
        "<a name='1.1'></a>\n",
        "<h3>&sect;2.3: Kiezen van Trainingsstrategie</h3>"
      ]
    },
    {
      "cell_type": "markdown",
      "id": "5b7196ea",
      "metadata": {
        "id": "5b7196ea"
      },
      "source": [
        "b.\tKies een geschikt RL-algoritme en trainingsstrategie voor je agent. Beschrijf en motiveer je keuzes."
      ]
    },
    {
      "cell_type": "markdown",
      "source": [
        "<div style=\"background-color:white; color:black; padding: 10px;\">\n",
        "    <strong>Agent 1: (Rogier) DQN - Deep Q-Network </strong>\n",
        "</div>\n",
        "\n"
      ],
      "metadata": {
        "id": "05IP74Mw9UG2"
      },
      "id": "05IP74Mw9UG2"
    },
    {
      "cell_type": "markdown",
      "source": [
        "### Trainingsstrategie in Multi-Agent Warlords\n",
        "\n",
        "Om optimaal gebruik te maken van het gekozen algoritme, hanteren we een trainingsstrategie die inspeelt op de uitdagingen van multi-agent reinforcement learning:\n",
        "\n",
        "1. **Multi-agent omgeving:**  \n",
        "   In Warlords zijn altijd meerdere agents actief. Onze PPO-agent wordt getraind door herhaaldelijk games te spelen tegen vooraf ingestelde tegenstanders, zoals random agents of (indien gewenst) andere PPO-agents. Dit zorgt ervoor dat de agent leert in een realistische, competitieve setting.\n",
        "\n",
        "2. **Variatie in tegenstanders:**  \n",
        "   Door de agent bloot te stellen aan verschillende typen tegenstanders (van random tot geavanceerd), voorkomen we dat de agent eenzijdige strategieën aanleert. Zo ontwikkelt de agent robuustere, meer generaliseerbare strategieën.\n",
        "\n",
        "3. **Observatie- en actie-preprocessing:**  \n",
        "   We gebruiken beeldverwerkingstechnieken zoals grijswaardenconversie, rescaling en stacking van frames. Dit zorgt ervoor dat de agent alleen de essentiële informatie uit het spel verwerkt, waardoor het leerproces efficiënter verloopt.\n",
        "\n",
        "4. **On-policy leren & rollouts:**  \n",
        "   PPO werkt met zogenoemde rollouts: de agent verzamelt verse trajecten door de omgeving en leert direct van deze actuele ervaringen. Dit betekent dat elke policy-update gebaseerd is op recent gedrag, wat bijdraagt aan stabiliteit en effectieve policy-veranderingen.\n",
        "\n",
        "5. **Regelmatige evaluatie en hyperparameter tuning:**  \n",
        "   Tijdens de training evalueren we regelmatig de prestaties van de agent door deze te laten spelen tegen de baseline (zoals een random agent). Daarnaast experimenteren we met verschillende hyperparameters, zoals learning rate, batch size, en de clipping-range van PPO, om de optimale instellingen te bepalen.\n",
        "\n",
        "6. **Logging en visualisatie:**  \n",
        "   Alle trainingsresultaten (zoals reward curves, winpercentages, etc.) worden gelogd en gevisualiseerd. Hierdoor kunnen we het leerproces volgen en analyseren, en waar nodig de strategie bijstellen.\n",
        "\n",
        "### Samenvattend\n",
        "\n",
        "Deze aanpak zorgt ervoor dat onze PPO-agent niet alleen leert van het eigen gedrag, maar zich ook kan aanpassen aan verschillende soorten tegenstanders. Door systematisch te trainen, evalueren en hyperparameters te tunen, halen we het maximale uit ons algoritme en maken we de voordelen van reinforcement learning in een multi-agent context helder zichtbaar.\n"
      ],
      "metadata": {
        "id": "QdDPbh7p9UNL"
      },
      "id": "QdDPbh7p9UNL"
    },
    {
      "cell_type": "markdown",
      "source": [
        "<div style=\"background-color:white; color:black; padding: 10px;\">\n",
        "    <strong>Agent 2: (Julia) PPO - Proximal Policy Optimization (Hier mist denk ik nog wat of ik heb het niet goed doorgelezen)(Julia morgen)</strong>\n",
        "</div>\n",
        "\n"
      ],
      "metadata": {
        "id": "OnqBjKqn7uln"
      },
      "id": "OnqBjKqn7uln"
    },
    {
      "cell_type": "markdown",
      "id": "6107d561",
      "metadata": {
        "id": "6107d561"
      },
      "source": [
        "\n",
        "---\n",
        "<div style=\"background-color:LightBlue; text-align:center; vertical-align:middle; padding:50px 0; margin-top:5px; margin-bottom:5px\">\n",
        "    <h2 id=\"eda-title\" style=\"color:black; font-family: Verdana, sans-serif; font-size: 25px;\"><strong>H3: Probleemdefinitie </strong></h2>\n",
        "</div>"
      ]
    },
    {
      "cell_type": "markdown",
      "id": "6bcbb909",
      "metadata": {
        "id": "6bcbb909"
      },
      "source": [
        "<a name='1.1'></a>\n",
        "<h3>&sect;3.1: Wat is het probleem?</h3>"
      ]
    },
    {
      "cell_type": "markdown",
      "id": "31d9d8c7",
      "metadata": {
        "id": "31d9d8c7"
      },
      "source": [
        "c.\tResultaat: Een helder uitgewerkte motivatie in je rapport (“Inleiding & Probleemanalyse”)."
      ]
    },
    {
      "cell_type": "markdown",
      "source": [
        "#### Probleemanalyse\n",
        "De opkomst van multi-agent omgevingen in toepassingen zoals robotica, games en logistiek vraagt om slimme algoritmes die kunnen concurreren én samenwerken. In de praktijk betekent dit dat agents hun strategieën continu moeten bijstellen op basis van het gedrag van andere agents in hun omgeving. In de Atari-game Warlords komen vier agents tegelijkertijd in actie, waarbij hun succes afhankelijk is van zowel hun eigen keuzes als die van hun tegenstanders.\n",
        "\n",
        "Single-agent reinforcement learning is onvoldoende, omdat hierbij wordt aangenomen dat de omgeving stationair is (niet verandert door anderen). In multi-agent settings verandert de omgeving echter continu, omdat andere agents ook leren en hun gedrag aanpassen. Dit vraagt om een benadering waarbij agents niet alleen leren van hun eigen ervaringen, maar ook van de interacties met anderen.\n",
        "\n",
        "Met multi-agent reinforcement learning (MARL) kunnen agents hun beleid optimaliseren terwijl ze rekening houden met de strategieën van anderen. Hierdoor ontstaan vaak complexe en onverwachte gedragingen die in single-agent settings niet mogelijk zijn. Bovendien kunnen MARL-methoden worden ingezet om situaties te modelleren waarin competitie, samenwerking of beide tegelijk nodig zijn.\n",
        "\n",
        "##### Relevantie van het probleem\n",
        "- In veel echte omgevingen zijn meerdere autonome beslissers actief (bijvoorbeeld zelfrijdende auto's in verkeer).\n",
        "- Het ontwerpen van robuuste agents in zulke settings helpt bij het ontwikkelen van realistische, schaalbare en adaptieve AI-systemen.\n",
        "- In de context van games als Warlords kan MARL inzichten bieden in hoe intelligente strategieën en tegenstrategieën ontstaan in competitieve settings.\n",
        "\n",
        "##### Samenvatting probleemstelling (één zin):\n",
        "\"Hoe kunnen we effectieve, lerende agents ontwikkelen die optimaal presteren in een competitieve multi-agent omgeving, waarbij rekening wordt gehouden met de voortdurende interactie en dynamiek tussen verschillende agents?\"\n",
        "\n",
        "Scharwächter (2024)\n",
        "\n",
        "#### Doelstelling\n",
        "Het doel van deze opdracht is om een multi-agent reinforcement learning systeem te ontwerpen, implementeren en evalueren voor de Atari Warlords-omgeving. Dit gebeurt door vier verschillende MARL-algoritmes (PPO, MADDPG, [keuze Peet] en [keuze Jort]) te trainen en hun prestaties te vergelijken met een baseline. Het eindresultaat is een reproduceerbaar systeem en een rapport met een diepgaande analyse van de werking en effectiviteit van de gekozen algoritmen."
      ],
      "metadata": {
        "id": "9ydUYqpqrNmw"
      },
      "id": "9ydUYqpqrNmw"
    },
    {
      "cell_type": "markdown",
      "id": "18f470aa",
      "metadata": {
        "id": "18f470aa"
      },
      "source": [
        "\n",
        "---\n",
        "<div style=\"background-color:LightBlue; text-align:center; vertical-align:middle; padding:50px 0; margin-top:5px; margin-bottom:5px\">\n",
        "    <h2 id=\"eda-title\" style=\"color:black; font-family: Verdana, sans-serif; font-size: 25px;\"><strong>H4: Ontwerp en Implementatie</strong></h2>\n",
        "</div>"
      ]
    },
    {
      "cell_type": "markdown",
      "id": "086bad36",
      "metadata": {
        "id": "086bad36"
      },
      "source": [
        "<a name='1.1'></a>\n",
        "<h3>&sect;4.1: Baseline strategie ontwikkelen</h3>"
      ]
    },
    {
      "cell_type": "markdown",
      "id": "0cffc336",
      "metadata": {
        "id": "0cffc336"
      },
      "source": [
        "a.\tOntwikkel een baseline zoals bijvoorbeeld een rule-based policy een random policy of een andere simpele heuristiek.  "
      ]
    },
    {
      "cell_type": "markdown",
      "source": [
        "<div style=\"background-color:white; color:black; padding: 10px;\">\n",
        "    <strong>Baseline: Random Agent</strong>\n",
        "</div>\n",
        "\n",
        "Als startpunt voor het vergelijken van verschillende algoritmes is het belangrijk om een baseline te definiëren. In deze opdracht gebruiken we een random agent als baseline. Dit is een agent die bij elke stap willekeurig een van de mogelijke acties kiest, ongeacht de observatie of situatie in het spel.\n",
        "\n",
        "**Waarom een random agent als baseline?**\n",
        "\n",
        "Een random agent biedt een objectief referentiepunt: het laat zien wat de prestaties zouden zijn zonder enige vorm van intelligentie, strategie of leren. Door de resultaten van geavanceerdere agents (zoals een rule-based agent of een reinforcement learning agent zoals PPO) te vergelijken met deze random agent, kun je duidelijk aantonen of jouw aanpak daadwerkelijk beter presteert dan toeval.\n",
        "\n",
        "**Implementatie**\n",
        "\n",
        "De implementatie van de random agent is heel eenvoudig. De agent kiest telkens een willekeurige actie uit het totale aantal toegestane acties van de omgeving. In het geval van Atari Warlords zijn dit bijvoorbeeld zes mogelijke acties.\n"
      ],
      "metadata": {
        "id": "hmQKYc-6tRob"
      },
      "id": "hmQKYc-6tRob"
    },
    {
      "cell_type": "code",
      "source": [
        "class AgentRandomPolicy:\n",
        "    def act(self, observation):\n",
        "        # Return a random action (6 possible in ALE Warlords)\n",
        "        return np.random.randint(6)\n"
      ],
      "metadata": {
        "id": "IXQkWF0RsqFo"
      },
      "id": "IXQkWF0RsqFo",
      "execution_count": 10,
      "outputs": []
    },
    {
      "cell_type": "markdown",
      "id": "b41eef89",
      "metadata": {
        "id": "b41eef89"
      },
      "source": [
        "<a name='1.1'></a>\n",
        "<h3>&sect;4.2: Selectie van DRL algoritme en frameworks</h3>"
      ]
    },
    {
      "cell_type": "markdown",
      "id": "6e23682d",
      "metadata": {
        "id": "6e23682d"
      },
      "source": [
        "b.\tKies een passend DRL-algoritme, die geschikt is voor een multi-agent setting. Kies geschikte packages en frameworks."
      ]
    },
    {
      "cell_type": "markdown",
      "source": [
        "<div style=\"background-color:white; color:black; padding: 10px;\">\n",
        "    <strong>Dit is uitgewerkt maar niet iedereen zijn agent staat er nu bij sinds ik dat nog niet weet en of je packages etc zijn uitgelegd. Iedereen moet dat hier zelf in toevoegen <strong> </div>\n",
        "\n"
      ],
      "metadata": {
        "id": "4K5_Zj8T-a1N"
      },
      "id": "4K5_Zj8T-a1N"
    },
    {
      "cell_type": "markdown",
      "source": [
        "### Keuze van Algoritme\n",
        "\n",
        "Voor deze opdracht, waarin de agent moet presteren in de **multi-agent omgeving van Atari Warlords**, kiezen we voor het **Proximal Policy Optimization (PPO)** algoritme. PPO is momenteel één van de meest gebruikte en robuuste algoritmes voor deep reinforcement learning, vooral geschikt voor problemen met complexe visuele input en multi-agent interactie. De belangrijkste voordelen van PPO:\n",
        "\n",
        "- **Stabiel leren van ruwe pixels:** PPO maakt gebruik van convolutionele neurale netwerken (CNN’s) om direct van visuele observaties te leren, zonder handmatig feature engineering.\n",
        "- **Uitstekende prestaties in Atari-omgevingen:** PPO heeft zich bewezen als benchmark-algoritme in veel Atari-games, mede dankzij de balans tussen exploratie en exploitatie.\n",
        "- **Direct geschikt voor multi-agent settings:** PPO kan eenvoudig worden ingezet met *parameter sharing* (één policy voor meerdere agents) of individuele policies per agent, wat het flexibel maakt voor uiteenlopende MARL-experimenten.\n",
        "\n",
        "### Keuze & Motivatie\n",
        "\n",
        "In deze opdracht trainen we een **PPO-agent** in de multi-agent Warlords-omgeving. Hierbij nemen onze agenten het op tegen ingebouwde tegenstanders, zoals random agents. Zo kunnen we de kracht van deep RL aantonen in vergelijking met simpele baseline strategieën.\n",
        "\n",
        "#### Waarom PPO in deze context?\n",
        "\n",
        "- **Stabiele policy learning:** PPO minimaliseert het risico op instabiliteit door gecontroleerde policy-updates (clipping), wat vooral belangrijk is in chaotische multi-agent omgevingen.\n",
        "- **Visual input:** Warlords levert observaties als pixeldata, wat naadloos aansluit op de CNN-architectuur van PPO.\n",
        "- **Flexibiliteit:** PPO werkt zowel met discrete als continue actie-ruimtes en laat zich makkelijk combineren met moderne MARL frameworks.\n",
        "\n",
        "---\n",
        "\n",
        "### Packages en Frameworks\n",
        "\n",
        "Voor de implementatie en evaluatie maken we gebruik van de volgende frameworks en libraries:\n",
        "\n",
        "#### 1. **Stable-Baselines3**\n",
        "- Biedt een krachtige en stabiele implementatie van PPO, met uitgebreide ondersteuning voor logging en evaluatie.\n",
        "- Direct compatibel met vectorized en custom omgevingen.\n",
        "\n",
        "#### 2. **PettingZoo**\n",
        "- De standaard voor multi-agent reinforcement learning omgevingen, met een ruime keuze aan benchmarkomgevingen zoals Atari Warlords.\n",
        "- Zorgt voor een uniforme interface en maakt snelle experimentatie mogelijk.\n",
        "\n",
        "#### 3. **Supersuit**\n",
        "- Bibliotheek voor preprocessing (o.a. frames resizen, kleuren reduceren en frame stacking), essentieel voor efficiënte training op visuele data.\n",
        "\n",
        "---\n",
        "\n",
        "### Samenvatting van de strategie\n",
        "\n",
        "- We trainen een PPO-agent in de **PettingZoo Atari Warlords** omgeving tegen baseline agents (zoals random).\n",
        "- PPO stelt ons in staat om efficiënt en stabiel te leren in deze multi-agent setting, met als doel beter te presteren dan eenvoudige baselines.\n",
        "- Door te bouwen op bewezen frameworks en preprocessing pipelines is onze aanpak **reproduceerbaar, schaalbaar en robuust**.\n",
        "\n",
        "---\n"
      ],
      "metadata": {
        "id": "sm8SLNH6wAbI"
      },
      "id": "sm8SLNH6wAbI"
    },
    {
      "cell_type": "markdown",
      "id": "e51ff2f0",
      "metadata": {
        "id": "e51ff2f0"
      },
      "source": [
        "<a name='1.1'></a>\n",
        "<h3>&sect;4.3: Implementatie MARL-agent</h3>"
      ]
    },
    {
      "cell_type": "markdown",
      "id": "327a104c",
      "metadata": {
        "id": "327a104c"
      },
      "source": [
        "d.\tResultaat: Een werkend MARL-systeem dat klaar is voor training en evaluatie."
      ]
    },
    {
      "cell_type": "markdown",
      "source": [
        "<div style=\"background-color:white; color:black; padding: 10px;\">\n",
        "    <strong>(Rogier) PPO Agent ( DEZE FUNCTIE NOG ZETTEN BIJ DE TRAINING STAP )</strong>\n",
        "</div>"
      ],
      "metadata": {
        "id": "3us4a2TXs3IY"
      },
      "id": "3us4a2TXs3IY"
    },
    {
      "cell_type": "code",
      "source": [
        "import time\n",
        "import supersuit as ss\n",
        "from stable_baselines3 import PPO\n",
        "from stable_baselines3.ppo import CnnPolicy\n",
        "from pettingzoo.atari import warlords_v3\n",
        "\n",
        "class MARLAgentPPO:\n",
        "    \"\"\"\n",
        "    Multi-Agent RL systeem voor de Atari Warlords omgeving.\n",
        "    Ondersteunt setup, training, evaluatie en het opslaan/laden van PPO-modellen.\n",
        "    \"\"\"\n",
        "\n",
        "    def __init__(\n",
        "        self,\n",
        "        num_vec_envs=2,\n",
        "        frame_stack=4,\n",
        "        x_size=84,\n",
        "        y_size=84,\n",
        "        batch_size=256,\n",
        "        total_timesteps=1_000_000,\n",
        "        verbose=3\n",
        "    ):\n",
        "        \"\"\"\n",
        "        Initialiseer de omgeving en hyperparameters.\n",
        "        \"\"\"\n",
        "        self.num_vec_envs = num_vec_envs\n",
        "        self.frame_stack = frame_stack\n",
        "        self.x_size = x_size\n",
        "        self.y_size = y_size\n",
        "        self.batch_size = batch_size\n",
        "        self.total_timesteps = total_timesteps\n",
        "        self.verbose = verbose\n",
        "\n",
        "        self.env = self._make_env()\n",
        "        self.vec_env = self._make_vec_env()\n",
        "        self.model = None\n",
        "\n",
        "    def _make_env(self):\n",
        "        \"\"\"\n",
        "        Zet de Warlords-omgeving klaar met preprocessing-wrappers.\n",
        "        \"\"\"\n",
        "        env = warlords_v3.parallel_env()\n",
        "        env = ss.black_death_v3(env)\n",
        "        env = ss.color_reduction_v0(env, mode='full')\n",
        "        env = ss.resize_v1(env, x_size=self.x_size, y_size=self.y_size)\n",
        "        env = ss.frame_stack_v1(env, self.frame_stack)\n",
        "        return env\n",
        "\n",
        "    def _make_vec_env(self):\n",
        "        \"\"\"\n",
        "        Converteer naar een vectorized environment voor Stable-Baselines3.\n",
        "        \"\"\"\n",
        "        vec_env = ss.pettingzoo_env_to_vec_env_v1(self.env)\n",
        "        vec_env = ss.concat_vec_envs_v1(\n",
        "            vec_env,\n",
        "            num_vec_envs=self.num_vec_envs,\n",
        "            num_cpus=1,\n",
        "            base_class=\"stable_baselines3\"\n",
        "        )\n",
        "        return vec_env\n",
        "\n",
        "    def train(self):\n",
        "        \"\"\"\n",
        "        Initialiseer en train het PPO-model.\n",
        "        \"\"\"\n",
        "        print(\"Start training...\")\n",
        "        self.model = PPO(\n",
        "            CnnPolicy,\n",
        "            self.vec_env,\n",
        "            verbose=self.verbose,\n",
        "            batch_size=self.batch_size\n",
        "        )\n",
        "        self.model.learn(total_timesteps=self.total_timesteps)\n",
        "        print(\"Training gereed.\")\n",
        "\n",
        "    def save(self, model_name=None):\n",
        "        \"\"\"\n",
        "        Sla het getrainde model op, optioneel met custom naam.\n",
        "        \"\"\"\n",
        "        if self.model is None:\n",
        "            raise ValueError(\"Model is nog niet getraind.\")\n",
        "        if model_name is None:\n",
        "            timestamp = time.strftime(\"%Y%m%d-%H%M%S\")\n",
        "            model_name = f\"warlords_ppo_model_{timestamp}\"\n",
        "        self.model.save(model_name)\n",
        "        print(f\"Model opgeslagen als {model_name}\")\n",
        "\n",
        "    def load(self, path):\n",
        "        \"\"\"\n",
        "        Laad een eerder getraind PPO-model.\n",
        "        \"\"\"\n",
        "        self.model = PPO.load(path)\n",
        "        print(f\"Model geladen van {path}\")\n"
      ],
      "metadata": {
        "id": "hz_u0D-ls5au"
      },
      "id": "hz_u0D-ls5au",
      "execution_count": null,
      "outputs": []
    },
    {
      "cell_type": "markdown",
      "source": [
        "<div style=\"background-color:white; color:black; padding: 10px;\">\n",
        "    <strong>(Julia) PPO Agent (WEET NIET OF DEZE OOK OPRECHT WERKT MET TRAINING)</strong>\n",
        "</div>"
      ],
      "metadata": {
        "id": "cNjPE8PgvRA-"
      },
      "id": "cNjPE8PgvRA-"
    },
    {
      "cell_type": "code",
      "source": [
        "class PPOAgent:\n",
        "    \"\"\"\n",
        "    Proximal Policy Optimization (PPO) agent for the Atari Warlords environment.\n",
        "\n",
        "    Attributes:\n",
        "        env_name (str): Name of the gym environment.\n",
        "        env: The instantiated gym environment.\n",
        "        model: The PPO model from stable-baselines3.\n",
        "    \"\"\"\n",
        "\n",
        "    def __init__(self, env_name=\"ALE/Warlords-v5\"):\n",
        "        \"\"\"\n",
        "        Initializes the PPOAgent with a specified environment.\n",
        "\n",
        "        Parameters:\n",
        "            env_name (str): Gym environment name. Defaults to \"ALE/Warlords-v5\".\n",
        "        \"\"\"\n",
        "        self.env = gym.make(env_name)\n",
        "        # CnnPolicy, want de input zijn afbeeldingen\n",
        "        self.model = PPO(\n",
        "            \"CnnPolicy\",\n",
        "            self.env,\n",
        "            verbose=1,\n",
        "            learning_rate=2.5e-4,\n",
        "            gamma=0.99,\n",
        "            n_steps=128,\n",
        "            batch_size=256,\n",
        "            ent_coef=0.01\n",
        "        )\n",
        "        self.env_name = env_name\n",
        "\n",
        "    def train(self, timesteps=100_000):\n",
        "        \"\"\"\n",
        "        Train the PPO model for a specified number of timesteps.\n",
        "\n",
        "        Parameters:\n",
        "            timesteps (int): Number of training timesteps.\n",
        "        \"\"\"\n",
        "        self.model.learn(total_timesteps=timesteps)\n",
        "\n",
        "    def act(self, observation):\n",
        "        \"\"\"\n",
        "        Selects an action based on the current observation using the trained model.\n",
        "\n",
        "        Parameters:\n",
        "            observation (np.ndarray): Current environment observation.\n",
        "\n",
        "        Returns:\n",
        "            int: Chosen action.\n",
        "        \"\"\"\n",
        "        action, _ = self.model.predict(observation, deterministic=True)\n",
        "        return action\n",
        "\n",
        "    def save(self, path=\"ppo_warlords.zip\"):\n",
        "        \"\"\"\n",
        "        Saves the trained model to a file.\n",
        "\n",
        "        Parameters:\n",
        "            path (str): Path to save the model.\n",
        "        \"\"\"\n",
        "        self.model.save(path)\n",
        "\n",
        "    def load(self, path=\"ppo_warlords.zip\"):\n",
        "        \"\"\"\n",
        "        Loads a trained model from a file.\n",
        "\n",
        "        Parameters:\n",
        "            path (str): Path to the saved model.\n",
        "        \"\"\"\n",
        "        self.model = PPO.load(path, env=self.env)\n",
        "\n",
        "    def evaluate(self, episodes=5):\n",
        "        \"\"\"\n",
        "        Evaluates the PPO agent for a given number of episodes and prints the total reward.\n",
        "\n",
        "        Parameters:\n",
        "            episodes (int): Number of evaluation episodes.\n",
        "        \"\"\"\n",
        "        env = gym.make(self.env_name)\n",
        "        for ep in range(episodes):\n",
        "            obs = env.reset()\n",
        "            done = False\n",
        "            total_reward = 0\n",
        "            while not done:\n",
        "                action = self.act(obs)\n",
        "                obs, reward, done, info = env.step(action)\n",
        "                total_reward += reward\n",
        "                env.render()\n",
        "            print(f\"Episode {ep+1}: Reward = {total_reward}\")\n",
        "        env.close()"
      ],
      "metadata": {
        "id": "HGPCukzcuwOZ"
      },
      "id": "HGPCukzcuwOZ",
      "execution_count": null,
      "outputs": []
    },
    {
      "cell_type": "markdown",
      "id": "210914e9",
      "metadata": {
        "id": "210914e9"
      },
      "source": [
        "\n",
        "---\n",
        "<div style=\"background-color:LightBlue; text-align:center; vertical-align:middle; padding:50px 0; margin-top:5px; margin-bottom:5px\">\n",
        "    <h2 id=\"eda-title\" style=\"color:black; font-family: Verdana, sans-serif; font-size: 25px;\"><strong>H5: Training en Hyperparameter Search</strong></h2>\n",
        "</div>"
      ]
    },
    {
      "cell_type": "markdown",
      "id": "1c0e45d6",
      "metadata": {
        "id": "1c0e45d6"
      },
      "source": [
        "<a name='1.1'></a>\n",
        "<h3>&sect;5.1: Training</h3>"
      ]
    },
    {
      "cell_type": "markdown",
      "source": [
        "<div style=\"background-color:white; color:black; padding: 10px;\">\n",
        "    <strong>(Rogier) Agent 1: PPO - Proximal Policy Optimization</strong></div>"
      ],
      "metadata": {
        "id": "RhfhmR3x-9DU"
      },
      "id": "RhfhmR3x-9DU"
    },
    {
      "cell_type": "markdown",
      "source": [
        "### Hoe verloopt de training van een PPO-agent?\n",
        "\n",
        "De training van een PPO-agent (Proximal Policy Optimization) in een omgeving zoals Atari Warlords bestaat uit een reeks vaste stappen die gericht zijn op stabiliteit en efficiënt leren. Tijdens elke trainingscyclus verzamelt de agent zogenaamde 'rollouts': sequenties van observaties, acties en rewards die worden gegenereerd door het huidige beleid. Op basis van deze trajecten berekent PPO met Generalized Advantage Estimation (GAE) hoe gunstig elke actie was ten opzichte van de verwachting, wat helpt om het leerproces stabieler en nauwkeuriger te maken.\n",
        "\n",
        "De kern van PPO ligt in het voorzichtig updaten van het beleid. In plaats van grote stappen (die tot instabiliteit kunnen leiden), worden policy-updates beperkt door een clipping-mechanisme. Dit voorkomt dat het geleerde beleid te veel verandert per trainingsstap, waardoor de kans op catastrofaal “vergeten” sterk wordt verminderd. De verzamelde rollouts worden verdeeld over mini-batches en gedurende meerdere epochs gebruikt om zowel het beleid (policy) als de value-functie (critic) te verbeteren. Tegelijkertijd stimuleert PPO via een entropiebonus dat de agent in het begin veel blijft exploreren, wat de kans op het vinden van sterke strategieën vergroot.\n",
        "\n",
        "Tijdens en na de training wordt de agent regelmatig geëvalueerd zonder extra ruis, zodat duidelijk wordt hoe effectief het geleerde beleid is in de praktijk. Door deze aanpak is PPO bijzonder geschikt voor complexe, visuele en multi-agent omgevingen, waarbij gecontroleerd leren en robuuste prestaties essentieel zijn.\n"
      ],
      "metadata": {
        "id": "vO98uFAF_FCz"
      },
      "id": "vO98uFAF_FCz"
    },
    {
      "cell_type": "markdown",
      "source": [
        "<div style=\"background-color:white; color:black; padding: 10px;\">\n",
        "    <strong>Omgeving opzetten</strong>\n",
        "</div>\n",
        "\n",
        "\n",
        "In deze stap initialiseren we de multi-agent Warlords-omgeving met behulp van PettingZoo. We passen verschillende bewerkingen toe op de raw game frames:\n",
        "- `warlords_v3.parallel_env()`: Laadt de 4-speler Warlords-omgeving waarbij alle agents gelijktijdig acties nemen.\n",
        "- `ss.black_death_v3(env)`: Zorgt ervoor dat agents die \"dood\" gaan toch in de omgeving blijven als placeholder, zodat de agent-count altijd gelijk blijft.\n",
        "- `ss.color_reduction_v0(env, mode='full')`: Zet de gekleurde frames om naar grijswaarden, waardoor de inputdimensie kleiner wordt en het leren efficiënter.\n",
        "- `ss.resize_v1(env, x_size=84, y_size=84)`: Schaal de beelden terug naar 84x84 pixels (standaard in Atari-RL-onderzoek).\n",
        "- `ss.frame_stack_v1(env, 4)`: Stapelt de laatste 4 frames, zodat het model ook bewegingsinformatie kan oppikken (belangrijk bij visuele input).\n",
        "\n",
        "---"
      ],
      "metadata": {
        "id": "W5whiJBiBH11"
      },
      "id": "W5whiJBiBH11"
    },
    {
      "cell_type": "code",
      "source": [
        "# 1. Maak de parallelle multi-agent omgeving\n",
        "env = warlords_v3.parallel_env()            # 4-player Warlords omgeving\n",
        "env = ss.black_death_v3(env)               # Houd agents in env, zelfs na \"dood\"\n",
        "env = ss.color_reduction_v0(env, mode='full')  # Converteer naar grijswaarden:contentReference[oaicite:22]{index=22}\n",
        "env = ss.resize_v1(env, x_size=84, y_size=84)   # Resize frames naar 84x84 pixels\n",
        "env = ss.frame_stack_v1(env, 4)                # Stack 4 opvolgende frames:contentReference[oaicite:23]{index=23}"
      ],
      "metadata": {
        "id": "bm8m3LGworU1"
      },
      "id": "bm8m3LGworU1",
      "execution_count": null,
      "outputs": []
    },
    {
      "cell_type": "markdown",
      "source": [
        "<div style=\"background-color:white; color:black; padding: 10px;\">\n",
        "    <strong>Converteren naar een vectorized env voor Stable-Baselines3</strong>\n",
        "</div>\n",
        "\n",
        "Stable-Baselines3 werkt het best met vectorized environments, waarbij meerdere instanties van de omgeving parallel kunnen draaien:\n",
        "- `ss.pettingzoo_env_to_vec_env_v1(env)`: Zet de PettingZoo-omgeving om naar een formaat dat door SB3 wordt herkend.\n",
        "- `ss.concat_vec_envs_v1(...)`: Combineert meerdere vectorized omgevingen tot één, zodat batchgewijze training mogelijk is (hier draaien 2 parallelle omgevingen op 1 CPU).\n",
        "\n",
        "---"
      ],
      "metadata": {
        "id": "5sisIiBjE1ji"
      },
      "id": "5sisIiBjE1ji"
    },
    {
      "cell_type": "code",
      "source": [
        "# 2. Converteer naar een vectorized env voor Stable-Baselines3\n",
        "vec_env = ss.pettingzoo_env_to_vec_env_v1(env)\n",
        "vec_env = ss.concat_vec_envs_v1(vec_env, num_vec_envs=2, num_cpus=1, base_class=\"stable_baselines3\")"
      ],
      "metadata": {
        "id": "SNKqddWBotHw"
      },
      "id": "SNKqddWBotHw",
      "execution_count": null,
      "outputs": []
    },
    {
      "cell_type": "markdown",
      "source": [
        "<div style=\"background-color:white; color:black; padding: 10px;\">\n",
        "    <strong>Defineren en trainen van het PPO model</strong>\n",
        "</div>\n",
        "\n",
        "We definiëren het PPO-model dat gebruikmaakt van een convolutioneel neuraal netwerk (CnnPolicy), geschikt voor visuele input zoals Atari-frames:\n",
        "- `PPO(CnnPolicy, vec_env, ...)`: Initialiseer het PPO-algoritme met de eerder gemaakte vectorized environment.\n",
        "- `total_timesteps`: Bepaalt hoe lang het model traint. Meer timesteps betekent meestal beter getrainde agenten.\n",
        "- `model.learn(...)`: Start het daadwerkelijke leerproces. Het model verzamelt data, leert van ervaringen en past het beleid continu aan.\n",
        "\n",
        "---"
      ],
      "metadata": {
        "id": "vLtNh7tEozmE"
      },
      "id": "vLtNh7tEozmE"
    },
    {
      "cell_type": "code",
      "source": [
        "# 3. Definieer en train het PPO model\n",
        "model = PPO(CnnPolicy, vec_env, verbose=3, batch_size=256)  # CNN-beleid voor visuele input:contentReference[oaicite:24]{index=24}\n",
        "total_timesteps = 10_000_000   # kies het aantal trainingstimesteps\n",
        "print(\"Start training...\")\n",
        "model.learn(total_timesteps=total_timesteps)\n",
        "print(\"Training gereed.\")"
      ],
      "metadata": {
        "id": "rnsPATHcozu8"
      },
      "id": "rnsPATHcozu8",
      "execution_count": null,
      "outputs": []
    },
    {
      "cell_type": "markdown",
      "source": [
        "<div style=\"background-color:white; color:black; padding: 10px;\">\n",
        "    <strong>Opslaan van het getrainde model met timestamp</strong>\n",
        "</div>\n",
        "\n",
        "Na de training slaan we het model op, waarbij automatisch een timestamp aan de bestandsnaam wordt toegevoegd:\n",
        "- `time.strftime(...)`: Maakt een string van de huidige datum en tijd.\n",
        "- `model.save(model_name)`: Slaat het getrainde model op onder een unieke naam, zodat je het later gemakkelijk kunt laden en evalueren.\n",
        "\n",
        "---"
      ],
      "metadata": {
        "id": "4-c6Bba0EduX"
      },
      "id": "4-c6Bba0EduX"
    },
    {
      "cell_type": "code",
      "source": [
        "# 4. Sla het getrainde model op\n",
        "timestamp = time.strftime(\"%Y%m%d-%H%M%S\")\n",
        "model_name = f\"warlords_ppo_model_{timestamp}\"\n",
        "model.save(model_name)\n",
        "print(f\"Model opgeslagen als {model_name}\")"
      ],
      "metadata": {
        "id": "yrTYXTf_pM8M"
      },
      "id": "yrTYXTf_pM8M",
      "execution_count": null,
      "outputs": []
    },
    {
      "cell_type": "code",
      "source": [
        "import time\n",
        "import supersuit as ss\n",
        "from stable_baselines3 import PPO\n",
        "from stable_baselines3.ppo import CnnPolicy\n",
        "from pettingzoo.atari import warlords_v3\n",
        "\n",
        "# 1. Maak de parallelle multi-agent omgeving\n",
        "env = warlords_v3.parallel_env()            # 4-player Warlords omgeving\n",
        "env = ss.black_death_v3(env)               # Houd agents in env, zelfs na \"dood\"\n",
        "env = ss.color_reduction_v0(env, mode='full')  # Converteer naar grijswaarden:contentReference[oaicite:22]{index=22}\n",
        "env = ss.resize_v1(env, x_size=84, y_size=84)   # Resize frames naar 84x84 pixels\n",
        "env = ss.frame_stack_v1(env, 4)                # Stack 4 opvolgende frames:contentReference[oaicite:23]{index=23}\n",
        "\n",
        "# 2. Converteer naar een vectorized env voor Stable-Baselines3\n",
        "vec_env = ss.pettingzoo_env_to_vec_env_v1(env)\n",
        "vec_env = ss.concat_vec_envs_v1(vec_env, num_vec_envs=2, num_cpus=1, base_class=\"stable_baselines3\")\n",
        "\n",
        "# 3. Definieer en train het PPO model\n",
        "model = PPO(CnnPolicy, vec_env, verbose=3, batch_size=256)  # CNN-beleid voor visuele input:contentReference[oaicite:24]{index=24}\n",
        "total_timesteps = 2_000_000   # kies het aantal trainingstimesteps\n",
        "print(\"Start training...\")\n",
        "model.learn(total_timesteps=total_timesteps)\n",
        "print(\"Training gereed.\")\n",
        "\n",
        "# 4. Sla het getrainde model op\n",
        "timestamp = time.strftime(\"%Y%m%d-%H%M%S\")\n",
        "model_name = f\"warlords_ppo_model_{timestamp}\"\n",
        "model.save(model_name)\n",
        "print(f\"Model opgeslagen als {model_name}\")\n",
        "\n"
      ],
      "metadata": {
        "colab": {
          "base_uri": "https://localhost:8080/",
          "height": 383
        },
        "id": "KYJjAM6fKnaR",
        "outputId": "065dc1a1-32d9-421b-82fc-badebdcbad74"
      },
      "id": "KYJjAM6fKnaR",
      "execution_count": 1,
      "outputs": [
        {
          "output_type": "error",
          "ename": "ModuleNotFoundError",
          "evalue": "No module named 'supersuit'",
          "traceback": [
            "\u001b[0;31m---------------------------------------------------------------------------\u001b[0m",
            "\u001b[0;31mModuleNotFoundError\u001b[0m                       Traceback (most recent call last)",
            "\u001b[0;32m/tmp/ipython-input-1-3663977828.py\u001b[0m in \u001b[0;36m<cell line: 0>\u001b[0;34m()\u001b[0m\n\u001b[1;32m      1\u001b[0m \u001b[0;32mimport\u001b[0m \u001b[0mtime\u001b[0m\u001b[0;34m\u001b[0m\u001b[0;34m\u001b[0m\u001b[0m\n\u001b[0;32m----> 2\u001b[0;31m \u001b[0;32mimport\u001b[0m \u001b[0msupersuit\u001b[0m \u001b[0;32mas\u001b[0m \u001b[0mss\u001b[0m\u001b[0;34m\u001b[0m\u001b[0;34m\u001b[0m\u001b[0m\n\u001b[0m\u001b[1;32m      3\u001b[0m \u001b[0;32mfrom\u001b[0m \u001b[0mstable_baselines3\u001b[0m \u001b[0;32mimport\u001b[0m \u001b[0mPPO\u001b[0m\u001b[0;34m\u001b[0m\u001b[0;34m\u001b[0m\u001b[0m\n\u001b[1;32m      4\u001b[0m \u001b[0;32mfrom\u001b[0m \u001b[0mstable_baselines3\u001b[0m\u001b[0;34m.\u001b[0m\u001b[0mppo\u001b[0m \u001b[0;32mimport\u001b[0m \u001b[0mCnnPolicy\u001b[0m\u001b[0;34m\u001b[0m\u001b[0;34m\u001b[0m\u001b[0m\n\u001b[1;32m      5\u001b[0m \u001b[0;32mfrom\u001b[0m \u001b[0mpettingzoo\u001b[0m\u001b[0;34m.\u001b[0m\u001b[0matari\u001b[0m \u001b[0;32mimport\u001b[0m \u001b[0mwarlords_v3\u001b[0m\u001b[0;34m\u001b[0m\u001b[0;34m\u001b[0m\u001b[0m\n",
            "\u001b[0;31mModuleNotFoundError\u001b[0m: No module named 'supersuit'",
            "",
            "\u001b[0;31m---------------------------------------------------------------------------\u001b[0;32m\nNOTE: If your import is failing due to a missing package, you can\nmanually install dependencies using either !pip or !apt.\n\nTo view examples of installing some common dependencies, click the\n\"Open Examples\" button below.\n\u001b[0;31m---------------------------------------------------------------------------\u001b[0m\n"
          ],
          "errorDetails": {
            "actions": [
              {
                "action": "open_url",
                "actionText": "Open Examples",
                "url": "/notebooks/snippets/importing_libraries.ipynb"
              }
            ]
          }
        }
      ]
    },
    {
      "cell_type": "markdown",
      "source": [
        "<div style=\"background-color:white; color:black; padding: 10px;\">\n",
        "    <strong>Toelichting op de output</strong>\n",
        "</div>"
      ],
      "metadata": {
        "id": "IOVfX0UGpW3h"
      },
      "id": "IOVfX0UGpW3h"
    },
    {
      "cell_type": "markdown",
      "source": [
        "## Interpretatie van de PPO Trainingsoutput\n",
        "\n",
        "Tijdens het trainen van het PPO-model worden verschillende statistieken gelogd. Hieronder lichten we de belangrijkste waarden uit, zodat duidelijk wordt wat ze betekenen en hoe ze geïnterpreteerd kunnen worden:\n",
        "\n",
        "| **Metric**               | **Waarde**      | **Toelichting**                                                                                                                                             |\n",
        "|------------------------- |-----------------|-------------------------------------------------------------------------------------------------------------------------------------------------------------|\n",
        "| **fps**                  | 472             | *Frames per second* – het aantal frames (omgevingsstappen) dat per seconde wordt verwerkt. Een hoge waarde betekent dat het trainen efficiënt verloopt.     |\n",
        "| **iterations**           | 8               | Aantal PPO-updates die zijn uitgevoerd sinds de start van de training.                                                                                      |\n",
        "| **time_elapsed**         | 277             | Totale verstreken tijd (in seconden) sinds het begin van de training.                                                                                       |\n",
        "| **total_timesteps**      | 131072          | Het aantal omgevingsstappen (frames/acties) dat het model tot nu toe heeft gezien.                                                                          |\n",
        "\n",
        "### Train-metrics\n",
        "\n",
        "| **Metric**                   | **Waarde**        | **Toelichting**                                                                                                                                             |\n",
        "|------------------------------|-------------------|-------------------------------------------------------------------------------------------------------------------------------------------------------------|\n",
        "| **approx_kl**                | 0.00897           | Gemiddelde KL-divergence tussen het oude en het nieuwe beleid. Een lage waarde duidt op kleine wijzigingen per update, wat zorgt voor stabiel leren.         |\n",
        "| **clip_fraction**            | 0.088             | Percentage van de policy-updates die beperkt (“geclipped”) werden. Veel clipping betekent dat het model te grote stappen probeert te maken (mogelijk instabiel). |\n",
        "| **clip_range**               | 0.2               | Maximale toegestane relatieve verandering per update (standaard bij PPO).                                                                                   |\n",
        "| **entropy_loss**             | -1.77             | De entropie van het beleid: een maat voor exploratie. Een lagere (meer negatieve) waarde betekent dat het beleid voorspelbaarder wordt (minder exploratie).   |\n",
        "| **explained_variance**       | -0.0209           | Meet hoe goed de value-functie de daadwerkelijke rewards voorspelt (1.0 = perfect, 0 = slecht, <0 = erger dan gokken).                                      |\n",
        "| **learning_rate**            | 0.0003            | De snelheid waarmee het model leert; hogere waardes versnellen leren, maar kunnen leiden tot instabiliteit.                                                 |\n",
        "| **loss**                     | -0.0226           | Totale loss-functie (mix van policy, value en entropy loss) die wordt geminimaliseerd tijdens training.                                                     |\n",
        "| **n_updates**                | 70                | Totaal aantal policy-updates tot nu toe uitgevoerd.                                                                                                         |\n",
        "| **policy_gradient_loss**     | -0.0133           | De bijdrage van de policy-gradient aan de totale loss. Negatiever betekent sterkere updates in de richting van meer reward.                                 |\n",
        "| **value_loss**               | 0.00265           | Fout van de value-functie; hoe kleiner, hoe beter het model toekomstige rewards kan voorspellen.                                                            |\n",
        "\n",
        "---\n",
        "\n",
        "### Richting van de Waarden: Wat wil je zien?\n",
        "\n",
        "- **fps**: Hoger is beter – snellere training.\n",
        "- **iterations / n_updates / total_timesteps**: Hoger betekent meer getraind (maar let op overfitting).\n",
        "- **approx_kl**: Laag (bijv. tussen 0.01 en 0.05) = stabiel leren. Te hoog: beleid verandert te snel en wordt instabiel; te laag: leren gaat traag.\n",
        "- **clip_fraction**: Typisch rond 0.1–0.3. Te hoog kan instabiliteit betekenen, te laag kan duiden op te weinig leereffect.\n",
        "- **entropy_loss**: Minder negatief betekent meer exploratie. Naarmate het model zekerder wordt, daalt de entropie. Een te lage entropie betekent mogelijk te weinig exploratie.\n",
        "- **explained_variance**: Hoger is beter. Richtwaarde: richting 1.0 is perfect, 0 is slecht, <0 betekent dat de value-functie slechter presteert dan gokken.\n",
        "- **learning_rate**: Hogere waardes versnellen het leren maar verhogen het risico op instabiliteit.\n",
        "- **loss / value_loss**: Lager is beter – betekent dat het model beter de returns/value weet te voorspellen en de policy verbetert.\n",
        "\n",
        "#### **Samenvatting**\n",
        "Deze statistieken geven inzicht in hoe snel en stabiel het PPO-model leert. Let vooral op de **KL-divergence** (voor stabiliteit), **clip_fraction** (voor learning dynamics), en **explained_variance** (voor de nauwkeurigheid van de value-voorspelling).\n"
      ],
      "metadata": {
        "id": "fLeX-0iZqR8g"
      },
      "id": "fLeX-0iZqR8g"
    },
    {
      "cell_type": "code",
      "source": [],
      "metadata": {
        "id": "LbwGRt6gnMVu"
      },
      "id": "LbwGRt6gnMVu",
      "execution_count": null,
      "outputs": []
    },
    {
      "cell_type": "markdown",
      "id": "459b8c33",
      "metadata": {
        "id": "459b8c33"
      },
      "source": [
        "<a name='1.1'></a>\n",
        "<h3>&sect;5.2: Selectie en tuning van hyperparameters</h3>"
      ]
    },
    {
      "cell_type": "markdown",
      "id": "27eb948f",
      "metadata": {
        "id": "27eb948f"
      },
      "source": [
        "a.\tExperimenteer met hyperparameters (zoals bijvoorbeeld learning rates of exploration-exploitation afwegingen). Documenteer dit ook."
      ]
    },
    {
      "cell_type": "markdown",
      "source": [
        "##### Experimenteren met hyperparameters"
      ],
      "metadata": {
        "id": "i-dZCQ0Tvu34"
      },
      "id": "i-dZCQ0Tvu34"
    },
    {
      "cell_type": "markdown",
      "source": [
        "### **Hyperparameters**\n",
        "\n",
        "##### ***Overzicht keuzes***\n",
        "\n",
        "\n",
        "\n",
        "\n",
        "\n",
        "| Hyperparameter        | Waarde    | Uitleg                                                                                 |\n",
        "|----------------------|-----------|----------------------------------------------------------------------------------------|\n",
        "| `Policy`              | CnnPolicy | Gebruikt convolutieneurale netwerken, geschikt voor beeldinput zoals bij Atari-games   |\n",
        "| `learning_rate`        | 2.5e-4    | Standaardwaarde voor PPO in Atari-omgevingen; zorgt voor een goede balans tussen snel leren en stabiliteit |\n",
        "| `gamma`                | 0.99      | Kortingfactor; waardeert toekomstige beloningen bijna net zo hoog als directe beloning |\n",
        "| `n_steps`              | 128       | Aantal stappen per update; bepaalt hoeveel ervaringen per batch worden verzameld       |\n",
        "| `batch_size`           | 256       | Grootte van elke batch die wordt gebruikt tijdens het updaten van het beleid           |\n",
        "| `ent_coef (entropie)`  | 0.01      | Coëfficiënt voor exploratie; hogere waarde zorgt voor meer exploratiegedrag            |\n",
        "| `verbose`              | 1         | Zorgt voor gedetailleerde logging tijdens het trainen                                  |\n",
        "\n",
        "#### **Experimenteren met hyperparameters**\n",
        "Tijdens het trainen heb ik geëxperimenteerd met verschillende waarden voor de learning rate, entropie-coëfficiënt en batch size:\n",
        "- **Learning rate:** Een hogere learning rate zorgde voor snellere training, maar maakte het model soms instabiel. 2.5e-4 bleek een goed compromis.\n",
        "- **Entropie-coëfficiënt (ent_coef):** Met een hogere waarde ging de agent meer experimenteren, maar duurde het langer voordat hij goed leerde. 0.01 gaf een goede balans.\n",
        "- **Batch size:** Grotere batches zorgden voor stabielere updates, maar vroegen meer geheugen.\n",
        "\n",
        "De uiteindelijke hyperparameterkeuzes zijn gebaseerd op wat het beste werkte voor deze specifieke omgeving en op basis van literatuur.\n",
        "\n"
      ],
      "metadata": {
        "id": "7glSKPkivIs3"
      },
      "id": "7glSKPkivIs3"
    },
    {
      "cell_type": "markdown",
      "id": "3eff6630",
      "metadata": {
        "id": "3eff6630"
      },
      "source": [
        "\n",
        "---\n",
        "<div style=\"background-color:LightBlue; text-align:center; vertical-align:middle; padding:50px 0; margin-top:5px; margin-bottom:5px\">\n",
        "    <h2 id=\"eda-title\" style=\"color:black; font-family: Verdana, sans-serif; font-size: 25px;\"><strong>H6: Evaluatie en Vergelijking</strong></h2>\n",
        "</div>"
      ]
    },
    {
      "cell_type": "markdown",
      "id": "b824fae3",
      "metadata": {
        "id": "b824fae3"
      },
      "source": [
        "<a name='1.1'></a>\n",
        "<h3>&sect;6.1: Evaluatie t.o.v. baseline</h3>"
      ]
    },
    {
      "cell_type": "markdown",
      "id": "bc781412",
      "metadata": {
        "id": "bc781412"
      },
      "source": [
        "b.\tEvalueer de prestaties van je model en vergelijk deze – indien mogelijk – met een baseline. Welke voordelen biedt RL in dit specifieke scenario?"
      ]
    },
    {
      "cell_type": "markdown",
      "id": "f5faffea",
      "metadata": {
        "id": "f5faffea"
      },
      "source": [
        "<a name='1.1'></a>\n",
        "<h3>&sect;6.2: Analyse met metrics</h3>"
      ]
    },
    {
      "cell_type": "markdown",
      "id": "e09b4659",
      "metadata": {
        "id": "e09b4659"
      },
      "source": [
        "c.\tVisualiseer de resultaten met grafieken en andere tools. Denk bijvoorbeeld aan reward-curves en stabiliteit van training."
      ]
    },
    {
      "cell_type": "markdown",
      "source": [
        "<div style=\"background-color:white; color:black; padding: 10px;\">\n",
        "    <strong>Metrics Model met 200_000 time stamps</strong>\n",
        "</div>"
      ],
      "metadata": {
        "id": "lWbX5QiCtfVx"
      },
      "id": "lWbX5QiCtfVx"
    },
    {
      "cell_type": "code",
      "source": [
        "import numpy as np\n",
        "\n",
        "# 1. Laad het opgeslagen model\n",
        "model = PPO.load(model_name)\n",
        "\n",
        "# 2. Maak een nieuwe omgeving voor evaluatie (parallel API)\n",
        "eval_env = warlords_v3.parallel_env(render_mode=None)  # geen render, alleen data\n",
        "eval_env = ss.black_death_v3(eval_env)\n",
        "eval_env = ss.color_reduction_v0(eval_env, mode='full')\n",
        "eval_env = ss.resize_v1(eval_env, x_size=84, y_size=84)\n",
        "eval_env = ss.frame_stack_v1(eval_env, 4)\n",
        "\n",
        "# 3. Functie om een episode te spelen met 1 RL agent vs 3 random agents\n",
        "def play_one_episode(env, agent_policy, render=False):\n",
        "    obs, info = env.reset(seed=None)  # <-- Let op: 2 outputs!\n",
        "    episode_rewards = {agent: 0 for agent in env.possible_agents}\n",
        "    step = 0\n",
        "    while True:\n",
        "        actions = {}\n",
        "        for agent, agent_obs in obs.items():\n",
        "            if agent == env.possible_agents[0]:\n",
        "                action, _state = agent_policy.predict(agent_obs, deterministic=True)\n",
        "            else:\n",
        "                action = env.action_space(agent).sample()\n",
        "            actions[agent] = action\n",
        "        obs, rewards, terminations, truncations, infos = env.step(actions)  # <-- 5 outputs\n",
        "        if render:\n",
        "            env.render()\n",
        "        for agent, r in rewards.items():\n",
        "            episode_rewards[agent] += r\n",
        "        if all(terminations.values()) or any(truncations.values()):\n",
        "            break\n",
        "        step += 1\n",
        "    return episode_rewards\n",
        "\n",
        "# 4. Speel meerdere episodes en verzamel resultaten\n",
        "num_test_episodes = 5\n",
        "total_rewards = {agent: 0 for agent in eval_env.possible_agents}\n",
        "wins = {agent: 0 for agent in eval_env.possible_agents}\n",
        "\n",
        "for ep in range(1, num_test_episodes+1):\n",
        "    ep_rewards = play_one_episode(eval_env, model, render=False)\n",
        "    print(f\"Episode {ep} rewards: {ep_rewards}\")\n",
        "    for ag, r in ep_rewards.items():\n",
        "        total_rewards[ag] += r\n",
        "    for ag, r in ep_rewards.items():\n",
        "        if r > 0:  # +1 winnaar\n",
        "            wins[ag] += 1\n",
        "\n",
        "# 5. Bereken gemiddelde reward per agent over alle test-episodes\n",
        "avg_rewards = {agent: total_rewards[agent]/num_test_episodes for agent in total_rewards}\n",
        "print(\"\\nGemiddelde reward per agent over\", num_test_episodes, \"episodes:\")\n",
        "for ag, r in avg_rewards.items():\n",
        "    print(f\"  {ag}: {r:.2f}\")\n",
        "print(\"Aantal keer gewonnen (laatste overlevende) per agent:\", wins)\n"
      ],
      "metadata": {
        "id": "X2fpKsSdtfxm"
      },
      "id": "X2fpKsSdtfxm",
      "execution_count": null,
      "outputs": []
    },
    {
      "cell_type": "markdown",
      "id": "248de22d",
      "metadata": {
        "id": "248de22d"
      },
      "source": [
        "<a name='1.1'></a>\n",
        "<h3>&sect;6.3: Visualisatie van resultaten</h3>"
      ]
    },
    {
      "cell_type": "markdown",
      "id": "f653d2a0",
      "metadata": {
        "id": "f653d2a0"
      },
      "source": [
        "c.\tVisualiseer de resultaten met grafieken en andere tools. Denk bijvoorbeeld aan reward-curves en stabiliteit van training."
      ]
    },
    {
      "cell_type": "markdown",
      "id": "935cd0bd",
      "metadata": {
        "id": "935cd0bd"
      },
      "source": [
        "\n",
        "---\n",
        "<div style=\"background-color:LightBlue; text-align:center; vertical-align:middle; padding:50px 0; margin-top:5px; margin-bottom:5px\">\n",
        "    <h2 id=\"eda-title\" style=\"color:black; font-family: Verdana, sans-serif; font-size: 25px;\"><strong>H7: Rapportage en Reflectie</strong></h2>\n",
        "</div>"
      ]
    },
    {
      "cell_type": "markdown",
      "id": "067d398a",
      "metadata": {
        "id": "067d398a"
      },
      "source": [
        "<a name='1.1'></a>\n",
        "<h3>&sect;7.1: Methodologie en aanpak</h3>"
      ]
    },
    {
      "cell_type": "markdown",
      "id": "c40607f0",
      "metadata": {
        "id": "c40607f0"
      },
      "source": [
        "<a name='1.1'></a>\n",
        "<h3>&sect;7.2: Samenvatting van resultaten</h3>"
      ]
    },
    {
      "cell_type": "markdown",
      "id": "4bc393ce",
      "metadata": {
        "id": "4bc393ce"
      },
      "source": [
        "<a name='1.1'></a>\n",
        "<h3>&sect;7.3: Reflectie op model, prestaties en uitbreidingsmogelijkheden</h3>\n"
      ]
    },
    {
      "cell_type": "markdown",
      "id": "5a36e0de",
      "metadata": {
        "id": "5a36e0de"
      },
      "source": [
        "a.\tSchrijf een rapport waarin je je probleemstelling, aanpak, resultaten en conclusies presenteert. Reflecteer op mogelijke uitbreidingen."
      ]
    },
    {
      "cell_type": "markdown",
      "id": "43cf89fe",
      "metadata": {
        "id": "43cf89fe"
      },
      "source": [
        "\n",
        "---\n",
        "<div style=\"background-color:LightBlue; text-align:center; vertical-align:middle; padding:50px 0; margin-top:5px; margin-bottom:5px\">\n",
        "    <h2 id=\"eda-title\" style=\"color:black; font-family: Verdana, sans-serif; font-size: 25px;\"><strong>H8: Literatuurlijst</strong></h2>\n",
        "</div>"
      ]
    },
    {
      "cell_type": "markdown",
      "source": [
        "- Scharwächter, V. (2024, 15 juli). *Probleemanalyse maken voor je scriptie | Betekenis & Voorbeeld.* Scribbr. https://www.scribbr.nl/starten-met-je-scriptie/probleemanalyse/"
      ],
      "metadata": {
        "id": "OxRcnCwjrS_6"
      },
      "id": "OxRcnCwjrS_6"
    },
    {
      "cell_type": "markdown",
      "id": "8c2bc62c",
      "metadata": {
        "id": "8c2bc62c"
      },
      "source": [
        "\n",
        "---\n",
        "<div style=\"background-color:LightBlue; text-align:center; vertical-align:middle; padding:50px 0; margin-top:5px; margin-bottom:5px\">\n",
        "    <h2 id=\"eda-title\" style=\"color:black; font-family: Verdana, sans-serif; font-size: 25px;\"><strong>H9: Beoordelingscriteria</strong></h2>\n",
        "</div>"
      ]
    },
    {
      "cell_type": "markdown",
      "id": "31b69975",
      "metadata": {
        "id": "31b69975"
      },
      "source": [
        "Je werk wordt beoordeeld op de volgende aspecten:\n",
        "1.\t**Keuze van algoritme en trainingsstrategie**: Is het gekozen algoritme geschikt voor de omgeving? Is de trainingsmethode van de agent relevant voor deze setting? Wordt er rekening gehouden met de aanwezigheid van meerdere agenten?\n",
        "2.\t**Technische diepgang**: Worden neural network-componenten (indien van toepassing) correct toegepast? Is er aandacht voor alle cruciale onderdelen van de DRL-pijplijn (zoals experience replay en policy updates)?\n",
        "3.\t**Implementatie en testen**: Is het multi-agent Reinforcement Learning-algoritme correct geïmplementeerd, met goed gestructureerde en werkende code? Is het getest in een multi-agentomgeving?\n",
        "4.\t**Rapportage**: Zijn de methodologie en keuzes goed onderbouwd met wetenschappelijke literatuur? Is het rapport helder en gestructureerd?\n",
        "5.\t**Reproduceerbaarheid**: Is de code duidelijk, goed gedocumenteerd en eenvoudig te reproduceren?\n",
        "6.\t**Bonuspunten**: Aan het einde van het project neemt je agent het in een toernooi op tegen je klasgenoten. (De details hierover volgen later.) Het winnende team van het toernooi krijgt 5 bonuspunten bovenop het aantal behaalde punten met de opdracht.\n"
      ]
    },
    {
      "cell_type": "markdown",
      "id": "d06c3ecc",
      "metadata": {
        "id": "d06c3ecc"
      },
      "source": []
    }
  ],
  "metadata": {
    "kernelspec": {
      "display_name": "Python 3",
      "name": "python3"
    },
    "language_info": {
      "name": "python",
      "version": "3.10.0"
    },
    "colab": {
      "provenance": [],
      "gpuType": "T4"
    },
    "accelerator": "GPU"
  },
  "nbformat": 4,
  "nbformat_minor": 5
}